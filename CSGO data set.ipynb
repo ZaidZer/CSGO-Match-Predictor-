{
 "cells": [
  {
   "cell_type": "code",
   "execution_count": 1,
   "id": "65773bed",
   "metadata": {},
   "outputs": [],
   "source": [
    "import pandas as pd\n",
    "import numpy as np\n",
    "import scipy as sp\n",
    "import numpy.random as npr\n",
    "import plotly as py\n",
    "import plotly.offline as pyo\n",
    "import matplotlib.pyplot as plt\n",
    "import plotly.graph_objs as go\n",
    "import plotly.express as px\n",
    "from sklearn.preprocessing import OneHotEncoder, OrdinalEncoder\n",
    "from sklearn.impute import SimpleImputer\n",
    "from sklearn.compose import make_column_selector, ColumnTransformer\n",
    "from sklearn.pipeline import Pipeline, make_pipeline\n",
    "from sklearn.ensemble import RandomForestClassifier\n",
    "from sklearn.linear_model import LogisticRegression\n",
    "from sklearn.model_selection import cross_val_predict, StratifiedKFold, train_test_split, GridSearchCV\n",
    "import requests"
   ]
  },
  {
   "cell_type": "code",
   "execution_count": 2,
   "id": "6f07bbad",
   "metadata": {},
   "outputs": [],
   "source": [
    "import requests\n",
    "\n",
    "url = \"https://www.openml.org/data/download/22102255/dataset\"\n",
    "r = requests.get(url, allow_redirects=True)\n",
    "\n",
    "with open(\"dataset_.txt\", \"wb\") as f:\n",
    "    f.write(r.content)\n"
   ]
  },
  {
   "cell_type": "code",
   "execution_count": null,
   "id": "648e5b13",
   "metadata": {},
   "outputs": [],
   "source": [
    "# data extracten\n",
    "data = []\n",
    "with open(\"dataset_.txt\", \"r\") as f:\n",
    "    for line in f.read().split(\"\\n\"):\n",
    "        if line.startswith(\"@\") or line.startswith(\"%\") or line.strip() == \"\":\n",
    "            continue\n",
    "        data.append(line)"
   ]
  },
  {
   "cell_type": "code",
   "execution_count": 4,
   "id": "11236027",
   "metadata": {},
   "outputs": [],
   "source": [
    "colomnus = []\n",
    "\n",
    "with open(\"dataset_.txt\", \"r\") as f:\n",
    "    for line in f.read().split(\"\\n\"):\n",
    "        if line.startswith(\"@ATTRIBUTE\"):\n",
    "            colomnus.append(line.split(\" \")[1])"
   ]
  },
  {
   "cell_type": "code",
   "execution_count": 5,
   "id": "7a999b9c",
   "metadata": {},
   "outputs": [],
   "source": [
    "with open(\"df.csv\", \"w\") as f:\n",
    "    f.write(\",\".join(colomnus))\n",
    "    f.write(\"\\n\")\n",
    "    f.write(\"\\n\".join(data))"
   ]
  },
  {
   "cell_type": "code",
   "execution_count": 6,
   "id": "1a52ec34",
   "metadata": {},
   "outputs": [],
   "source": [
    "df = pd.read_csv(\"df.csv\")\n",
    "\n",
    "df.columns = colomnus"
   ]
  },
  {
   "cell_type": "code",
   "execution_count": 7,
   "id": "b03cb2d9",
   "metadata": {},
   "outputs": [
    {
     "data": {
      "text/html": [
       "<div>\n",
       "<style scoped>\n",
       "    .dataframe tbody tr th:only-of-type {\n",
       "        vertical-align: middle;\n",
       "    }\n",
       "\n",
       "    .dataframe tbody tr th {\n",
       "        vertical-align: top;\n",
       "    }\n",
       "\n",
       "    .dataframe thead th {\n",
       "        text-align: right;\n",
       "    }\n",
       "</style>\n",
       "<table border=\"1\" class=\"dataframe\">\n",
       "  <thead>\n",
       "    <tr style=\"text-align: right;\">\n",
       "      <th></th>\n",
       "      <th>time_left</th>\n",
       "      <th>ct_score</th>\n",
       "      <th>t_score</th>\n",
       "      <th>map</th>\n",
       "      <th>bomb_planted</th>\n",
       "      <th>ct_health</th>\n",
       "      <th>t_health</th>\n",
       "      <th>ct_armor</th>\n",
       "      <th>t_armor</th>\n",
       "      <th>ct_money</th>\n",
       "      <th>...</th>\n",
       "      <th>t_grenade_flashbang</th>\n",
       "      <th>ct_grenade_smokegrenade</th>\n",
       "      <th>t_grenade_smokegrenade</th>\n",
       "      <th>ct_grenade_incendiarygrenade</th>\n",
       "      <th>t_grenade_incendiarygrenade</th>\n",
       "      <th>ct_grenade_molotovgrenade</th>\n",
       "      <th>t_grenade_molotovgrenade</th>\n",
       "      <th>ct_grenade_decoygrenade</th>\n",
       "      <th>t_grenade_decoygrenade</th>\n",
       "      <th>round_winner</th>\n",
       "    </tr>\n",
       "  </thead>\n",
       "  <tbody>\n",
       "    <tr>\n",
       "      <th>0</th>\n",
       "      <td>175.00</td>\n",
       "      <td>0.0</td>\n",
       "      <td>0.0</td>\n",
       "      <td>de_dust2</td>\n",
       "      <td>False</td>\n",
       "      <td>500.0</td>\n",
       "      <td>500.0</td>\n",
       "      <td>0.0</td>\n",
       "      <td>0.0</td>\n",
       "      <td>4000.0</td>\n",
       "      <td>...</td>\n",
       "      <td>0.0</td>\n",
       "      <td>0.0</td>\n",
       "      <td>0.0</td>\n",
       "      <td>0.0</td>\n",
       "      <td>0.0</td>\n",
       "      <td>0.0</td>\n",
       "      <td>0.0</td>\n",
       "      <td>0.0</td>\n",
       "      <td>0.0</td>\n",
       "      <td>CT</td>\n",
       "    </tr>\n",
       "    <tr>\n",
       "      <th>1</th>\n",
       "      <td>156.03</td>\n",
       "      <td>0.0</td>\n",
       "      <td>0.0</td>\n",
       "      <td>de_dust2</td>\n",
       "      <td>False</td>\n",
       "      <td>500.0</td>\n",
       "      <td>500.0</td>\n",
       "      <td>400.0</td>\n",
       "      <td>300.0</td>\n",
       "      <td>600.0</td>\n",
       "      <td>...</td>\n",
       "      <td>0.0</td>\n",
       "      <td>0.0</td>\n",
       "      <td>2.0</td>\n",
       "      <td>0.0</td>\n",
       "      <td>0.0</td>\n",
       "      <td>0.0</td>\n",
       "      <td>0.0</td>\n",
       "      <td>0.0</td>\n",
       "      <td>0.0</td>\n",
       "      <td>CT</td>\n",
       "    </tr>\n",
       "    <tr>\n",
       "      <th>2</th>\n",
       "      <td>96.03</td>\n",
       "      <td>0.0</td>\n",
       "      <td>0.0</td>\n",
       "      <td>de_dust2</td>\n",
       "      <td>False</td>\n",
       "      <td>391.0</td>\n",
       "      <td>400.0</td>\n",
       "      <td>294.0</td>\n",
       "      <td>200.0</td>\n",
       "      <td>750.0</td>\n",
       "      <td>...</td>\n",
       "      <td>0.0</td>\n",
       "      <td>0.0</td>\n",
       "      <td>2.0</td>\n",
       "      <td>0.0</td>\n",
       "      <td>0.0</td>\n",
       "      <td>0.0</td>\n",
       "      <td>0.0</td>\n",
       "      <td>0.0</td>\n",
       "      <td>0.0</td>\n",
       "      <td>CT</td>\n",
       "    </tr>\n",
       "    <tr>\n",
       "      <th>3</th>\n",
       "      <td>76.03</td>\n",
       "      <td>0.0</td>\n",
       "      <td>0.0</td>\n",
       "      <td>de_dust2</td>\n",
       "      <td>False</td>\n",
       "      <td>391.0</td>\n",
       "      <td>400.0</td>\n",
       "      <td>294.0</td>\n",
       "      <td>200.0</td>\n",
       "      <td>750.0</td>\n",
       "      <td>...</td>\n",
       "      <td>0.0</td>\n",
       "      <td>0.0</td>\n",
       "      <td>0.0</td>\n",
       "      <td>0.0</td>\n",
       "      <td>0.0</td>\n",
       "      <td>0.0</td>\n",
       "      <td>0.0</td>\n",
       "      <td>0.0</td>\n",
       "      <td>0.0</td>\n",
       "      <td>CT</td>\n",
       "    </tr>\n",
       "    <tr>\n",
       "      <th>4</th>\n",
       "      <td>174.97</td>\n",
       "      <td>1.0</td>\n",
       "      <td>0.0</td>\n",
       "      <td>de_dust2</td>\n",
       "      <td>False</td>\n",
       "      <td>500.0</td>\n",
       "      <td>500.0</td>\n",
       "      <td>192.0</td>\n",
       "      <td>0.0</td>\n",
       "      <td>18350.0</td>\n",
       "      <td>...</td>\n",
       "      <td>0.0</td>\n",
       "      <td>0.0</td>\n",
       "      <td>0.0</td>\n",
       "      <td>0.0</td>\n",
       "      <td>0.0</td>\n",
       "      <td>0.0</td>\n",
       "      <td>0.0</td>\n",
       "      <td>0.0</td>\n",
       "      <td>0.0</td>\n",
       "      <td>CT</td>\n",
       "    </tr>\n",
       "    <tr>\n",
       "      <th>...</th>\n",
       "      <td>...</td>\n",
       "      <td>...</td>\n",
       "      <td>...</td>\n",
       "      <td>...</td>\n",
       "      <td>...</td>\n",
       "      <td>...</td>\n",
       "      <td>...</td>\n",
       "      <td>...</td>\n",
       "      <td>...</td>\n",
       "      <td>...</td>\n",
       "      <td>...</td>\n",
       "      <td>...</td>\n",
       "      <td>...</td>\n",
       "      <td>...</td>\n",
       "      <td>...</td>\n",
       "      <td>...</td>\n",
       "      <td>...</td>\n",
       "      <td>...</td>\n",
       "      <td>...</td>\n",
       "      <td>...</td>\n",
       "      <td>...</td>\n",
       "    </tr>\n",
       "    <tr>\n",
       "      <th>122405</th>\n",
       "      <td>15.41</td>\n",
       "      <td>11.0</td>\n",
       "      <td>14.0</td>\n",
       "      <td>de_train</td>\n",
       "      <td>True</td>\n",
       "      <td>200.0</td>\n",
       "      <td>242.0</td>\n",
       "      <td>195.0</td>\n",
       "      <td>359.0</td>\n",
       "      <td>100.0</td>\n",
       "      <td>...</td>\n",
       "      <td>2.0</td>\n",
       "      <td>1.0</td>\n",
       "      <td>1.0</td>\n",
       "      <td>0.0</td>\n",
       "      <td>0.0</td>\n",
       "      <td>0.0</td>\n",
       "      <td>0.0</td>\n",
       "      <td>0.0</td>\n",
       "      <td>0.0</td>\n",
       "      <td>T</td>\n",
       "    </tr>\n",
       "    <tr>\n",
       "      <th>122406</th>\n",
       "      <td>174.93</td>\n",
       "      <td>11.0</td>\n",
       "      <td>15.0</td>\n",
       "      <td>de_train</td>\n",
       "      <td>False</td>\n",
       "      <td>500.0</td>\n",
       "      <td>500.0</td>\n",
       "      <td>95.0</td>\n",
       "      <td>175.0</td>\n",
       "      <td>11500.0</td>\n",
       "      <td>...</td>\n",
       "      <td>2.0</td>\n",
       "      <td>1.0</td>\n",
       "      <td>0.0</td>\n",
       "      <td>0.0</td>\n",
       "      <td>0.0</td>\n",
       "      <td>0.0</td>\n",
       "      <td>0.0</td>\n",
       "      <td>0.0</td>\n",
       "      <td>0.0</td>\n",
       "      <td>T</td>\n",
       "    </tr>\n",
       "    <tr>\n",
       "      <th>122407</th>\n",
       "      <td>114.93</td>\n",
       "      <td>11.0</td>\n",
       "      <td>15.0</td>\n",
       "      <td>de_train</td>\n",
       "      <td>False</td>\n",
       "      <td>500.0</td>\n",
       "      <td>500.0</td>\n",
       "      <td>495.0</td>\n",
       "      <td>475.0</td>\n",
       "      <td>1200.0</td>\n",
       "      <td>...</td>\n",
       "      <td>4.0</td>\n",
       "      <td>3.0</td>\n",
       "      <td>5.0</td>\n",
       "      <td>1.0</td>\n",
       "      <td>0.0</td>\n",
       "      <td>0.0</td>\n",
       "      <td>5.0</td>\n",
       "      <td>0.0</td>\n",
       "      <td>0.0</td>\n",
       "      <td>T</td>\n",
       "    </tr>\n",
       "    <tr>\n",
       "      <th>122408</th>\n",
       "      <td>94.93</td>\n",
       "      <td>11.0</td>\n",
       "      <td>15.0</td>\n",
       "      <td>de_train</td>\n",
       "      <td>False</td>\n",
       "      <td>500.0</td>\n",
       "      <td>500.0</td>\n",
       "      <td>495.0</td>\n",
       "      <td>475.0</td>\n",
       "      <td>1200.0</td>\n",
       "      <td>...</td>\n",
       "      <td>5.0</td>\n",
       "      <td>0.0</td>\n",
       "      <td>3.0</td>\n",
       "      <td>0.0</td>\n",
       "      <td>0.0</td>\n",
       "      <td>0.0</td>\n",
       "      <td>4.0</td>\n",
       "      <td>0.0</td>\n",
       "      <td>0.0</td>\n",
       "      <td>T</td>\n",
       "    </tr>\n",
       "    <tr>\n",
       "      <th>122409</th>\n",
       "      <td>74.93</td>\n",
       "      <td>11.0</td>\n",
       "      <td>15.0</td>\n",
       "      <td>de_train</td>\n",
       "      <td>False</td>\n",
       "      <td>375.0</td>\n",
       "      <td>479.0</td>\n",
       "      <td>395.0</td>\n",
       "      <td>466.0</td>\n",
       "      <td>1100.0</td>\n",
       "      <td>...</td>\n",
       "      <td>3.0</td>\n",
       "      <td>0.0</td>\n",
       "      <td>2.0</td>\n",
       "      <td>0.0</td>\n",
       "      <td>0.0</td>\n",
       "      <td>0.0</td>\n",
       "      <td>3.0</td>\n",
       "      <td>0.0</td>\n",
       "      <td>0.0</td>\n",
       "      <td>T</td>\n",
       "    </tr>\n",
       "  </tbody>\n",
       "</table>\n",
       "<p>122410 rows × 97 columns</p>\n",
       "</div>"
      ],
      "text/plain": [
       "        time_left  ct_score  t_score       map  bomb_planted  ct_health  \\\n",
       "0          175.00       0.0      0.0  de_dust2         False      500.0   \n",
       "1          156.03       0.0      0.0  de_dust2         False      500.0   \n",
       "2           96.03       0.0      0.0  de_dust2         False      391.0   \n",
       "3           76.03       0.0      0.0  de_dust2         False      391.0   \n",
       "4          174.97       1.0      0.0  de_dust2         False      500.0   \n",
       "...           ...       ...      ...       ...           ...        ...   \n",
       "122405      15.41      11.0     14.0  de_train          True      200.0   \n",
       "122406     174.93      11.0     15.0  de_train         False      500.0   \n",
       "122407     114.93      11.0     15.0  de_train         False      500.0   \n",
       "122408      94.93      11.0     15.0  de_train         False      500.0   \n",
       "122409      74.93      11.0     15.0  de_train         False      375.0   \n",
       "\n",
       "        t_health  ct_armor  t_armor  ct_money  ...  t_grenade_flashbang  \\\n",
       "0          500.0       0.0      0.0    4000.0  ...                  0.0   \n",
       "1          500.0     400.0    300.0     600.0  ...                  0.0   \n",
       "2          400.0     294.0    200.0     750.0  ...                  0.0   \n",
       "3          400.0     294.0    200.0     750.0  ...                  0.0   \n",
       "4          500.0     192.0      0.0   18350.0  ...                  0.0   \n",
       "...          ...       ...      ...       ...  ...                  ...   \n",
       "122405     242.0     195.0    359.0     100.0  ...                  2.0   \n",
       "122406     500.0      95.0    175.0   11500.0  ...                  2.0   \n",
       "122407     500.0     495.0    475.0    1200.0  ...                  4.0   \n",
       "122408     500.0     495.0    475.0    1200.0  ...                  5.0   \n",
       "122409     479.0     395.0    466.0    1100.0  ...                  3.0   \n",
       "\n",
       "        ct_grenade_smokegrenade  t_grenade_smokegrenade  \\\n",
       "0                           0.0                     0.0   \n",
       "1                           0.0                     2.0   \n",
       "2                           0.0                     2.0   \n",
       "3                           0.0                     0.0   \n",
       "4                           0.0                     0.0   \n",
       "...                         ...                     ...   \n",
       "122405                      1.0                     1.0   \n",
       "122406                      1.0                     0.0   \n",
       "122407                      3.0                     5.0   \n",
       "122408                      0.0                     3.0   \n",
       "122409                      0.0                     2.0   \n",
       "\n",
       "        ct_grenade_incendiarygrenade  t_grenade_incendiarygrenade  \\\n",
       "0                                0.0                          0.0   \n",
       "1                                0.0                          0.0   \n",
       "2                                0.0                          0.0   \n",
       "3                                0.0                          0.0   \n",
       "4                                0.0                          0.0   \n",
       "...                              ...                          ...   \n",
       "122405                           0.0                          0.0   \n",
       "122406                           0.0                          0.0   \n",
       "122407                           1.0                          0.0   \n",
       "122408                           0.0                          0.0   \n",
       "122409                           0.0                          0.0   \n",
       "\n",
       "        ct_grenade_molotovgrenade  t_grenade_molotovgrenade  \\\n",
       "0                             0.0                       0.0   \n",
       "1                             0.0                       0.0   \n",
       "2                             0.0                       0.0   \n",
       "3                             0.0                       0.0   \n",
       "4                             0.0                       0.0   \n",
       "...                           ...                       ...   \n",
       "122405                        0.0                       0.0   \n",
       "122406                        0.0                       0.0   \n",
       "122407                        0.0                       5.0   \n",
       "122408                        0.0                       4.0   \n",
       "122409                        0.0                       3.0   \n",
       "\n",
       "        ct_grenade_decoygrenade  t_grenade_decoygrenade  round_winner  \n",
       "0                           0.0                     0.0            CT  \n",
       "1                           0.0                     0.0            CT  \n",
       "2                           0.0                     0.0            CT  \n",
       "3                           0.0                     0.0            CT  \n",
       "4                           0.0                     0.0            CT  \n",
       "...                         ...                     ...           ...  \n",
       "122405                      0.0                     0.0             T  \n",
       "122406                      0.0                     0.0             T  \n",
       "122407                      0.0                     0.0             T  \n",
       "122408                      0.0                     0.0             T  \n",
       "122409                      0.0                     0.0             T  \n",
       "\n",
       "[122410 rows x 97 columns]"
      ]
     },
     "execution_count": 7,
     "metadata": {},
     "output_type": "execute_result"
    }
   ],
   "source": [
    "df"
   ]
  },
  {
   "cell_type": "code",
   "execution_count": 8,
   "id": "596e1dae",
   "metadata": {},
   "outputs": [
    {
     "name": "stdout",
     "output_type": "stream",
     "text": [
      "<class 'pandas.core.frame.DataFrame'>\n",
      "RangeIndex: 122410 entries, 0 to 122409\n",
      "Data columns (total 97 columns):\n",
      " #   Column                        Non-Null Count   Dtype  \n",
      "---  ------                        --------------   -----  \n",
      " 0   time_left                     122410 non-null  float64\n",
      " 1   ct_score                      122410 non-null  float64\n",
      " 2   t_score                       122410 non-null  float64\n",
      " 3   map                           122410 non-null  object \n",
      " 4   bomb_planted                  122410 non-null  bool   \n",
      " 5   ct_health                     122410 non-null  float64\n",
      " 6   t_health                      122410 non-null  float64\n",
      " 7   ct_armor                      122410 non-null  float64\n",
      " 8   t_armor                       122410 non-null  float64\n",
      " 9   ct_money                      122410 non-null  float64\n",
      " 10  t_money                       122410 non-null  float64\n",
      " 11  ct_helmets                    122410 non-null  float64\n",
      " 12  t_helmets                     122410 non-null  float64\n",
      " 13  ct_defuse_kits                122410 non-null  float64\n",
      " 14  ct_players_alive              122410 non-null  float64\n",
      " 15  t_players_alive               122410 non-null  float64\n",
      " 16  ct_weapon_ak47                122410 non-null  float64\n",
      " 17  t_weapon_ak47                 122410 non-null  float64\n",
      " 18  ct_weapon_aug                 122410 non-null  float64\n",
      " 19  t_weapon_aug                  122410 non-null  float64\n",
      " 20  ct_weapon_awp                 122410 non-null  float64\n",
      " 21  t_weapon_awp                  122410 non-null  float64\n",
      " 22  ct_weapon_bizon               122410 non-null  float64\n",
      " 23  t_weapon_bizon                122410 non-null  float64\n",
      " 24  ct_weapon_cz75auto            122410 non-null  float64\n",
      " 25  t_weapon_cz75auto             122410 non-null  float64\n",
      " 26  ct_weapon_elite               122410 non-null  float64\n",
      " 27  t_weapon_elite                122410 non-null  float64\n",
      " 28  ct_weapon_famas               122410 non-null  float64\n",
      " 29  t_weapon_famas                122410 non-null  float64\n",
      " 30  ct_weapon_g3sg1               122410 non-null  float64\n",
      " 31  t_weapon_g3sg1                122410 non-null  float64\n",
      " 32  ct_weapon_galilar             122410 non-null  float64\n",
      " 33  t_weapon_galilar              122410 non-null  float64\n",
      " 34  ct_weapon_glock               122410 non-null  float64\n",
      " 35  t_weapon_glock                122410 non-null  float64\n",
      " 36  ct_weapon_m249                122410 non-null  float64\n",
      " 37  t_weapon_m249                 122410 non-null  float64\n",
      " 38  ct_weapon_m4a1s               122410 non-null  float64\n",
      " 39  t_weapon_m4a1s                122410 non-null  float64\n",
      " 40  ct_weapon_m4a4                122410 non-null  float64\n",
      " 41  t_weapon_m4a4                 122410 non-null  float64\n",
      " 42  ct_weapon_mac10               122410 non-null  float64\n",
      " 43  t_weapon_mac10                122410 non-null  float64\n",
      " 44  ct_weapon_mag7                122410 non-null  float64\n",
      " 45  t_weapon_mag7                 122410 non-null  float64\n",
      " 46  ct_weapon_mp5sd               122410 non-null  float64\n",
      " 47  t_weapon_mp5sd                122410 non-null  float64\n",
      " 48  ct_weapon_mp7                 122410 non-null  float64\n",
      " 49  t_weapon_mp7                  122410 non-null  float64\n",
      " 50  ct_weapon_mp9                 122410 non-null  float64\n",
      " 51  t_weapon_mp9                  122410 non-null  float64\n",
      " 52  ct_weapon_negev               122410 non-null  float64\n",
      " 53  t_weapon_negev                122410 non-null  float64\n",
      " 54  ct_weapon_nova                122410 non-null  float64\n",
      " 55  t_weapon_nova                 122410 non-null  float64\n",
      " 56  ct_weapon_p90                 122410 non-null  float64\n",
      " 57  t_weapon_p90                  122410 non-null  float64\n",
      " 58  ct_weapon_r8revolver          122410 non-null  float64\n",
      " 59  t_weapon_r8revolver           122410 non-null  float64\n",
      " 60  ct_weapon_sawedoff            122410 non-null  float64\n",
      " 61  t_weapon_sawedoff             122410 non-null  float64\n",
      " 62  ct_weapon_scar20              122410 non-null  float64\n",
      " 63  t_weapon_scar20               122410 non-null  float64\n",
      " 64  ct_weapon_sg553               122410 non-null  float64\n",
      " 65  t_weapon_sg553                122410 non-null  float64\n",
      " 66  ct_weapon_ssg08               122410 non-null  float64\n",
      " 67  t_weapon_ssg08                122410 non-null  float64\n",
      " 68  ct_weapon_ump45               122410 non-null  float64\n",
      " 69  t_weapon_ump45                122410 non-null  float64\n",
      " 70  ct_weapon_xm1014              122410 non-null  float64\n",
      " 71  t_weapon_xm1014               122410 non-null  float64\n",
      " 72  ct_weapon_deagle              122410 non-null  float64\n",
      " 73  t_weapon_deagle               122410 non-null  float64\n",
      " 74  ct_weapon_fiveseven           122410 non-null  float64\n",
      " 75  t_weapon_fiveseven            122410 non-null  float64\n",
      " 76  ct_weapon_usps                122410 non-null  float64\n",
      " 77  t_weapon_usps                 122410 non-null  float64\n",
      " 78  ct_weapon_p250                122410 non-null  float64\n",
      " 79  t_weapon_p250                 122410 non-null  float64\n",
      " 80  ct_weapon_p2000               122410 non-null  float64\n",
      " 81  t_weapon_p2000                122410 non-null  float64\n",
      " 82  ct_weapon_tec9                122410 non-null  float64\n",
      " 83  t_weapon_tec9                 122410 non-null  float64\n",
      " 84  ct_grenade_hegrenade          122410 non-null  float64\n",
      " 85  t_grenade_hegrenade           122410 non-null  float64\n",
      " 86  ct_grenade_flashbang          122410 non-null  float64\n",
      " 87  t_grenade_flashbang           122410 non-null  float64\n",
      " 88  ct_grenade_smokegrenade       122410 non-null  float64\n",
      " 89  t_grenade_smokegrenade        122410 non-null  float64\n",
      " 90  ct_grenade_incendiarygrenade  122410 non-null  float64\n",
      " 91  t_grenade_incendiarygrenade   122410 non-null  float64\n",
      " 92  ct_grenade_molotovgrenade     122410 non-null  float64\n",
      " 93  t_grenade_molotovgrenade      122410 non-null  float64\n",
      " 94  ct_grenade_decoygrenade       122410 non-null  float64\n",
      " 95  t_grenade_decoygrenade        122410 non-null  float64\n",
      " 96  round_winner                  122410 non-null  object \n",
      "dtypes: bool(1), float64(94), object(2)\n",
      "memory usage: 89.8+ MB\n"
     ]
    }
   ],
   "source": [
    "df.info()"
   ]
  },
  {
   "cell_type": "code",
   "execution_count": 9,
   "id": "35792bd5",
   "metadata": {},
   "outputs": [
    {
     "data": {
      "text/html": [
       "<div>\n",
       "<style scoped>\n",
       "    .dataframe tbody tr th:only-of-type {\n",
       "        vertical-align: middle;\n",
       "    }\n",
       "\n",
       "    .dataframe tbody tr th {\n",
       "        vertical-align: top;\n",
       "    }\n",
       "\n",
       "    .dataframe thead th {\n",
       "        text-align: right;\n",
       "    }\n",
       "</style>\n",
       "<table border=\"1\" class=\"dataframe\">\n",
       "  <thead>\n",
       "    <tr style=\"text-align: right;\">\n",
       "      <th></th>\n",
       "      <th>time_left</th>\n",
       "      <th>ct_score</th>\n",
       "      <th>t_score</th>\n",
       "      <th>map</th>\n",
       "      <th>bomb_planted</th>\n",
       "      <th>ct_health</th>\n",
       "      <th>t_health</th>\n",
       "      <th>ct_armor</th>\n",
       "      <th>t_armor</th>\n",
       "      <th>ct_money</th>\n",
       "      <th>...</th>\n",
       "      <th>t_grenade_flashbang</th>\n",
       "      <th>ct_grenade_smokegrenade</th>\n",
       "      <th>t_grenade_smokegrenade</th>\n",
       "      <th>ct_grenade_incendiarygrenade</th>\n",
       "      <th>t_grenade_incendiarygrenade</th>\n",
       "      <th>ct_grenade_molotovgrenade</th>\n",
       "      <th>t_grenade_molotovgrenade</th>\n",
       "      <th>ct_grenade_decoygrenade</th>\n",
       "      <th>t_grenade_decoygrenade</th>\n",
       "      <th>round_winner</th>\n",
       "    </tr>\n",
       "  </thead>\n",
       "  <tbody>\n",
       "    <tr>\n",
       "      <th>0</th>\n",
       "      <td>175.00</td>\n",
       "      <td>0.0</td>\n",
       "      <td>0.0</td>\n",
       "      <td>de_dust2</td>\n",
       "      <td>0</td>\n",
       "      <td>500.0</td>\n",
       "      <td>500.0</td>\n",
       "      <td>0.0</td>\n",
       "      <td>0.0</td>\n",
       "      <td>4000.0</td>\n",
       "      <td>...</td>\n",
       "      <td>0.0</td>\n",
       "      <td>0.0</td>\n",
       "      <td>0.0</td>\n",
       "      <td>0.0</td>\n",
       "      <td>0.0</td>\n",
       "      <td>0.0</td>\n",
       "      <td>0.0</td>\n",
       "      <td>0.0</td>\n",
       "      <td>0.0</td>\n",
       "      <td>0</td>\n",
       "    </tr>\n",
       "    <tr>\n",
       "      <th>1</th>\n",
       "      <td>156.03</td>\n",
       "      <td>0.0</td>\n",
       "      <td>0.0</td>\n",
       "      <td>de_dust2</td>\n",
       "      <td>0</td>\n",
       "      <td>500.0</td>\n",
       "      <td>500.0</td>\n",
       "      <td>400.0</td>\n",
       "      <td>300.0</td>\n",
       "      <td>600.0</td>\n",
       "      <td>...</td>\n",
       "      <td>0.0</td>\n",
       "      <td>0.0</td>\n",
       "      <td>2.0</td>\n",
       "      <td>0.0</td>\n",
       "      <td>0.0</td>\n",
       "      <td>0.0</td>\n",
       "      <td>0.0</td>\n",
       "      <td>0.0</td>\n",
       "      <td>0.0</td>\n",
       "      <td>0</td>\n",
       "    </tr>\n",
       "    <tr>\n",
       "      <th>2</th>\n",
       "      <td>96.03</td>\n",
       "      <td>0.0</td>\n",
       "      <td>0.0</td>\n",
       "      <td>de_dust2</td>\n",
       "      <td>0</td>\n",
       "      <td>391.0</td>\n",
       "      <td>400.0</td>\n",
       "      <td>294.0</td>\n",
       "      <td>200.0</td>\n",
       "      <td>750.0</td>\n",
       "      <td>...</td>\n",
       "      <td>0.0</td>\n",
       "      <td>0.0</td>\n",
       "      <td>2.0</td>\n",
       "      <td>0.0</td>\n",
       "      <td>0.0</td>\n",
       "      <td>0.0</td>\n",
       "      <td>0.0</td>\n",
       "      <td>0.0</td>\n",
       "      <td>0.0</td>\n",
       "      <td>0</td>\n",
       "    </tr>\n",
       "    <tr>\n",
       "      <th>3</th>\n",
       "      <td>76.03</td>\n",
       "      <td>0.0</td>\n",
       "      <td>0.0</td>\n",
       "      <td>de_dust2</td>\n",
       "      <td>0</td>\n",
       "      <td>391.0</td>\n",
       "      <td>400.0</td>\n",
       "      <td>294.0</td>\n",
       "      <td>200.0</td>\n",
       "      <td>750.0</td>\n",
       "      <td>...</td>\n",
       "      <td>0.0</td>\n",
       "      <td>0.0</td>\n",
       "      <td>0.0</td>\n",
       "      <td>0.0</td>\n",
       "      <td>0.0</td>\n",
       "      <td>0.0</td>\n",
       "      <td>0.0</td>\n",
       "      <td>0.0</td>\n",
       "      <td>0.0</td>\n",
       "      <td>0</td>\n",
       "    </tr>\n",
       "    <tr>\n",
       "      <th>4</th>\n",
       "      <td>174.97</td>\n",
       "      <td>1.0</td>\n",
       "      <td>0.0</td>\n",
       "      <td>de_dust2</td>\n",
       "      <td>0</td>\n",
       "      <td>500.0</td>\n",
       "      <td>500.0</td>\n",
       "      <td>192.0</td>\n",
       "      <td>0.0</td>\n",
       "      <td>18350.0</td>\n",
       "      <td>...</td>\n",
       "      <td>0.0</td>\n",
       "      <td>0.0</td>\n",
       "      <td>0.0</td>\n",
       "      <td>0.0</td>\n",
       "      <td>0.0</td>\n",
       "      <td>0.0</td>\n",
       "      <td>0.0</td>\n",
       "      <td>0.0</td>\n",
       "      <td>0.0</td>\n",
       "      <td>0</td>\n",
       "    </tr>\n",
       "  </tbody>\n",
       "</table>\n",
       "<p>5 rows × 97 columns</p>\n",
       "</div>"
      ],
      "text/plain": [
       "   time_left  ct_score  t_score       map  bomb_planted  ct_health  t_health  \\\n",
       "0     175.00       0.0      0.0  de_dust2             0      500.0     500.0   \n",
       "1     156.03       0.0      0.0  de_dust2             0      500.0     500.0   \n",
       "2      96.03       0.0      0.0  de_dust2             0      391.0     400.0   \n",
       "3      76.03       0.0      0.0  de_dust2             0      391.0     400.0   \n",
       "4     174.97       1.0      0.0  de_dust2             0      500.0     500.0   \n",
       "\n",
       "   ct_armor  t_armor  ct_money  ...  t_grenade_flashbang  \\\n",
       "0       0.0      0.0    4000.0  ...                  0.0   \n",
       "1     400.0    300.0     600.0  ...                  0.0   \n",
       "2     294.0    200.0     750.0  ...                  0.0   \n",
       "3     294.0    200.0     750.0  ...                  0.0   \n",
       "4     192.0      0.0   18350.0  ...                  0.0   \n",
       "\n",
       "   ct_grenade_smokegrenade  t_grenade_smokegrenade  \\\n",
       "0                      0.0                     0.0   \n",
       "1                      0.0                     2.0   \n",
       "2                      0.0                     2.0   \n",
       "3                      0.0                     0.0   \n",
       "4                      0.0                     0.0   \n",
       "\n",
       "   ct_grenade_incendiarygrenade  t_grenade_incendiarygrenade  \\\n",
       "0                           0.0                          0.0   \n",
       "1                           0.0                          0.0   \n",
       "2                           0.0                          0.0   \n",
       "3                           0.0                          0.0   \n",
       "4                           0.0                          0.0   \n",
       "\n",
       "   ct_grenade_molotovgrenade  t_grenade_molotovgrenade  \\\n",
       "0                        0.0                       0.0   \n",
       "1                        0.0                       0.0   \n",
       "2                        0.0                       0.0   \n",
       "3                        0.0                       0.0   \n",
       "4                        0.0                       0.0   \n",
       "\n",
       "   ct_grenade_decoygrenade  t_grenade_decoygrenade  round_winner  \n",
       "0                      0.0                     0.0             0  \n",
       "1                      0.0                     0.0             0  \n",
       "2                      0.0                     0.0             0  \n",
       "3                      0.0                     0.0             0  \n",
       "4                      0.0                     0.0             0  \n",
       "\n",
       "[5 rows x 97 columns]"
      ]
     },
     "execution_count": 9,
     "metadata": {},
     "output_type": "execute_result"
    }
   ],
   "source": [
    "# verander de binaire variabelen\n",
    "df[\"bomb_planted\"] = df[\"bomb_planted\"].map({True: 1, False: 0})\n",
    "df[\"round_winner\"] = df[\"round_winner\"].map({\"T\": 1, \"CT\": 0})\n",
    "\n",
    "df.head()"
   ]
  },
  {
   "cell_type": "code",
   "execution_count": 10,
   "id": "ca4f5df3",
   "metadata": {},
   "outputs": [
    {
     "data": {
      "application/vnd.plotly.v1+json": {
       "config": {
        "plotlyServerURL": "https://plot.ly"
       },
       "data": [
        {
         "colorbar": {
          "title": {
           "text": "Correlation"
          }
         },
         "colorscale": [
          [
           0,
           "rgb(103,0,31)"
          ],
          [
           0.1,
           "rgb(178,24,43)"
          ],
          [
           0.2,
           "rgb(214,96,77)"
          ],
          [
           0.3,
           "rgb(244,165,130)"
          ],
          [
           0.4,
           "rgb(253,219,199)"
          ],
          [
           0.5,
           "rgb(247,247,247)"
          ],
          [
           0.6,
           "rgb(209,229,240)"
          ],
          [
           0.7,
           "rgb(146,197,222)"
          ],
          [
           0.8,
           "rgb(67,147,195)"
          ],
          [
           0.9,
           "rgb(33,102,172)"
          ],
          [
           1,
           "rgb(5,48,97)"
          ]
         ],
         "type": "heatmap",
         "x": [
          "time_left",
          "ct_score",
          "t_score",
          "bomb_planted",
          "ct_health",
          "t_health",
          "ct_armor",
          "t_armor",
          "ct_money",
          "t_money",
          "ct_helmets",
          "t_helmets",
          "ct_defuse_kits",
          "ct_players_alive",
          "t_players_alive",
          "ct_weapon_ak47",
          "t_weapon_ak47",
          "ct_weapon_aug",
          "t_weapon_aug",
          "ct_weapon_awp",
          "t_weapon_awp",
          "ct_weapon_bizon",
          "t_weapon_bizon",
          "ct_weapon_cz75auto",
          "t_weapon_cz75auto",
          "ct_weapon_elite",
          "t_weapon_elite",
          "ct_weapon_famas",
          "t_weapon_famas",
          "ct_weapon_g3sg1",
          "t_weapon_g3sg1",
          "ct_weapon_galilar",
          "t_weapon_galilar",
          "ct_weapon_glock",
          "t_weapon_glock",
          "ct_weapon_m249",
          "t_weapon_m249",
          "ct_weapon_m4a1s",
          "t_weapon_m4a1s",
          "ct_weapon_m4a4",
          "t_weapon_m4a4",
          "ct_weapon_mac10",
          "t_weapon_mac10",
          "ct_weapon_mag7",
          "t_weapon_mag7",
          "ct_weapon_mp5sd",
          "t_weapon_mp5sd",
          "ct_weapon_mp7",
          "t_weapon_mp7",
          "ct_weapon_mp9",
          "t_weapon_mp9",
          "ct_weapon_negev",
          "t_weapon_negev",
          "ct_weapon_nova",
          "t_weapon_nova",
          "ct_weapon_p90",
          "t_weapon_p90",
          "ct_weapon_r8revolver",
          "t_weapon_r8revolver",
          "ct_weapon_sawedoff",
          "t_weapon_sawedoff",
          "ct_weapon_scar20",
          "t_weapon_scar20",
          "ct_weapon_sg553",
          "t_weapon_sg553",
          "ct_weapon_ssg08",
          "t_weapon_ssg08",
          "ct_weapon_ump45",
          "t_weapon_ump45",
          "ct_weapon_xm1014",
          "t_weapon_xm1014",
          "ct_weapon_deagle",
          "t_weapon_deagle",
          "ct_weapon_fiveseven",
          "t_weapon_fiveseven",
          "ct_weapon_usps",
          "t_weapon_usps",
          "ct_weapon_p250",
          "t_weapon_p250",
          "ct_weapon_p2000",
          "t_weapon_p2000",
          "ct_weapon_tec9",
          "t_weapon_tec9",
          "ct_grenade_hegrenade",
          "t_grenade_hegrenade",
          "ct_grenade_flashbang",
          "t_grenade_flashbang",
          "ct_grenade_smokegrenade",
          "t_grenade_smokegrenade",
          "ct_grenade_incendiarygrenade",
          "t_grenade_incendiarygrenade",
          "ct_grenade_molotovgrenade",
          "t_grenade_molotovgrenade",
          "ct_grenade_decoygrenade",
          "t_grenade_decoygrenade",
          "round_winner"
         ],
         "y": [
          "time_left",
          "ct_score",
          "t_score",
          "bomb_planted",
          "ct_health",
          "t_health",
          "ct_armor",
          "t_armor",
          "ct_money",
          "t_money",
          "ct_helmets",
          "t_helmets",
          "ct_defuse_kits",
          "ct_players_alive",
          "t_players_alive",
          "ct_weapon_ak47",
          "t_weapon_ak47",
          "ct_weapon_aug",
          "t_weapon_aug",
          "ct_weapon_awp",
          "t_weapon_awp",
          "ct_weapon_bizon",
          "t_weapon_bizon",
          "ct_weapon_cz75auto",
          "t_weapon_cz75auto",
          "ct_weapon_elite",
          "t_weapon_elite",
          "ct_weapon_famas",
          "t_weapon_famas",
          "ct_weapon_g3sg1",
          "t_weapon_g3sg1",
          "ct_weapon_galilar",
          "t_weapon_galilar",
          "ct_weapon_glock",
          "t_weapon_glock",
          "ct_weapon_m249",
          "t_weapon_m249",
          "ct_weapon_m4a1s",
          "t_weapon_m4a1s",
          "ct_weapon_m4a4",
          "t_weapon_m4a4",
          "ct_weapon_mac10",
          "t_weapon_mac10",
          "ct_weapon_mag7",
          "t_weapon_mag7",
          "ct_weapon_mp5sd",
          "t_weapon_mp5sd",
          "ct_weapon_mp7",
          "t_weapon_mp7",
          "ct_weapon_mp9",
          "t_weapon_mp9",
          "ct_weapon_negev",
          "t_weapon_negev",
          "ct_weapon_nova",
          "t_weapon_nova",
          "ct_weapon_p90",
          "t_weapon_p90",
          "ct_weapon_r8revolver",
          "t_weapon_r8revolver",
          "ct_weapon_sawedoff",
          "t_weapon_sawedoff",
          "ct_weapon_scar20",
          "t_weapon_scar20",
          "ct_weapon_sg553",
          "t_weapon_sg553",
          "ct_weapon_ssg08",
          "t_weapon_ssg08",
          "ct_weapon_ump45",
          "t_weapon_ump45",
          "ct_weapon_xm1014",
          "t_weapon_xm1014",
          "ct_weapon_deagle",
          "t_weapon_deagle",
          "ct_weapon_fiveseven",
          "t_weapon_fiveseven",
          "ct_weapon_usps",
          "t_weapon_usps",
          "ct_weapon_p250",
          "t_weapon_p250",
          "ct_weapon_p2000",
          "t_weapon_p2000",
          "ct_weapon_tec9",
          "t_weapon_tec9",
          "ct_grenade_hegrenade",
          "t_grenade_hegrenade",
          "ct_grenade_flashbang",
          "t_grenade_flashbang",
          "ct_grenade_smokegrenade",
          "t_grenade_smokegrenade",
          "ct_grenade_incendiarygrenade",
          "t_grenade_incendiarygrenade",
          "ct_grenade_molotovgrenade",
          "t_grenade_molotovgrenade",
          "ct_grenade_decoygrenade",
          "t_grenade_decoygrenade",
          "round_winner"
         ],
         "z": {
          "bdata": "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",
          "dtype": "f8",
          "shape": "96, 96"
         },
         "zmax": 1,
         "zmin": -1
        }
       ],
       "layout": {
        "height": 700,
        "template": {
         "data": {
          "bar": [
           {
            "error_x": {
             "color": "#2a3f5f"
            },
            "error_y": {
             "color": "#2a3f5f"
            },
            "marker": {
             "line": {
              "color": "#E5ECF6",
              "width": 0.5
             },
             "pattern": {
              "fillmode": "overlay",
              "size": 10,
              "solidity": 0.2
             }
            },
            "type": "bar"
           }
          ],
          "barpolar": [
           {
            "marker": {
             "line": {
              "color": "#E5ECF6",
              "width": 0.5
             },
             "pattern": {
              "fillmode": "overlay",
              "size": 10,
              "solidity": 0.2
             }
            },
            "type": "barpolar"
           }
          ],
          "carpet": [
           {
            "aaxis": {
             "endlinecolor": "#2a3f5f",
             "gridcolor": "white",
             "linecolor": "white",
             "minorgridcolor": "white",
             "startlinecolor": "#2a3f5f"
            },
            "baxis": {
             "endlinecolor": "#2a3f5f",
             "gridcolor": "white",
             "linecolor": "white",
             "minorgridcolor": "white",
             "startlinecolor": "#2a3f5f"
            },
            "type": "carpet"
           }
          ],
          "choropleth": [
           {
            "colorbar": {
             "outlinewidth": 0,
             "ticks": ""
            },
            "type": "choropleth"
           }
          ],
          "contour": [
           {
            "colorbar": {
             "outlinewidth": 0,
             "ticks": ""
            },
            "colorscale": [
             [
              0,
              "#0d0887"
             ],
             [
              0.1111111111111111,
              "#46039f"
             ],
             [
              0.2222222222222222,
              "#7201a8"
             ],
             [
              0.3333333333333333,
              "#9c179e"
             ],
             [
              0.4444444444444444,
              "#bd3786"
             ],
             [
              0.5555555555555556,
              "#d8576b"
             ],
             [
              0.6666666666666666,
              "#ed7953"
             ],
             [
              0.7777777777777778,
              "#fb9f3a"
             ],
             [
              0.8888888888888888,
              "#fdca26"
             ],
             [
              1,
              "#f0f921"
             ]
            ],
            "type": "contour"
           }
          ],
          "contourcarpet": [
           {
            "colorbar": {
             "outlinewidth": 0,
             "ticks": ""
            },
            "type": "contourcarpet"
           }
          ],
          "heatmap": [
           {
            "colorbar": {
             "outlinewidth": 0,
             "ticks": ""
            },
            "colorscale": [
             [
              0,
              "#0d0887"
             ],
             [
              0.1111111111111111,
              "#46039f"
             ],
             [
              0.2222222222222222,
              "#7201a8"
             ],
             [
              0.3333333333333333,
              "#9c179e"
             ],
             [
              0.4444444444444444,
              "#bd3786"
             ],
             [
              0.5555555555555556,
              "#d8576b"
             ],
             [
              0.6666666666666666,
              "#ed7953"
             ],
             [
              0.7777777777777778,
              "#fb9f3a"
             ],
             [
              0.8888888888888888,
              "#fdca26"
             ],
             [
              1,
              "#f0f921"
             ]
            ],
            "type": "heatmap"
           }
          ],
          "histogram": [
           {
            "marker": {
             "pattern": {
              "fillmode": "overlay",
              "size": 10,
              "solidity": 0.2
             }
            },
            "type": "histogram"
           }
          ],
          "histogram2d": [
           {
            "colorbar": {
             "outlinewidth": 0,
             "ticks": ""
            },
            "colorscale": [
             [
              0,
              "#0d0887"
             ],
             [
              0.1111111111111111,
              "#46039f"
             ],
             [
              0.2222222222222222,
              "#7201a8"
             ],
             [
              0.3333333333333333,
              "#9c179e"
             ],
             [
              0.4444444444444444,
              "#bd3786"
             ],
             [
              0.5555555555555556,
              "#d8576b"
             ],
             [
              0.6666666666666666,
              "#ed7953"
             ],
             [
              0.7777777777777778,
              "#fb9f3a"
             ],
             [
              0.8888888888888888,
              "#fdca26"
             ],
             [
              1,
              "#f0f921"
             ]
            ],
            "type": "histogram2d"
           }
          ],
          "histogram2dcontour": [
           {
            "colorbar": {
             "outlinewidth": 0,
             "ticks": ""
            },
            "colorscale": [
             [
              0,
              "#0d0887"
             ],
             [
              0.1111111111111111,
              "#46039f"
             ],
             [
              0.2222222222222222,
              "#7201a8"
             ],
             [
              0.3333333333333333,
              "#9c179e"
             ],
             [
              0.4444444444444444,
              "#bd3786"
             ],
             [
              0.5555555555555556,
              "#d8576b"
             ],
             [
              0.6666666666666666,
              "#ed7953"
             ],
             [
              0.7777777777777778,
              "#fb9f3a"
             ],
             [
              0.8888888888888888,
              "#fdca26"
             ],
             [
              1,
              "#f0f921"
             ]
            ],
            "type": "histogram2dcontour"
           }
          ],
          "mesh3d": [
           {
            "colorbar": {
             "outlinewidth": 0,
             "ticks": ""
            },
            "type": "mesh3d"
           }
          ],
          "parcoords": [
           {
            "line": {
             "colorbar": {
              "outlinewidth": 0,
              "ticks": ""
             }
            },
            "type": "parcoords"
           }
          ],
          "pie": [
           {
            "automargin": true,
            "type": "pie"
           }
          ],
          "scatter": [
           {
            "fillpattern": {
             "fillmode": "overlay",
             "size": 10,
             "solidity": 0.2
            },
            "type": "scatter"
           }
          ],
          "scatter3d": [
           {
            "line": {
             "colorbar": {
              "outlinewidth": 0,
              "ticks": ""
             }
            },
            "marker": {
             "colorbar": {
              "outlinewidth": 0,
              "ticks": ""
             }
            },
            "type": "scatter3d"
           }
          ],
          "scattercarpet": [
           {
            "marker": {
             "colorbar": {
              "outlinewidth": 0,
              "ticks": ""
             }
            },
            "type": "scattercarpet"
           }
          ],
          "scattergeo": [
           {
            "marker": {
             "colorbar": {
              "outlinewidth": 0,
              "ticks": ""
             }
            },
            "type": "scattergeo"
           }
          ],
          "scattergl": [
           {
            "marker": {
             "colorbar": {
              "outlinewidth": 0,
              "ticks": ""
             }
            },
            "type": "scattergl"
           }
          ],
          "scattermap": [
           {
            "marker": {
             "colorbar": {
              "outlinewidth": 0,
              "ticks": ""
             }
            },
            "type": "scattermap"
           }
          ],
          "scattermapbox": [
           {
            "marker": {
             "colorbar": {
              "outlinewidth": 0,
              "ticks": ""
             }
            },
            "type": "scattermapbox"
           }
          ],
          "scatterpolar": [
           {
            "marker": {
             "colorbar": {
              "outlinewidth": 0,
              "ticks": ""
             }
            },
            "type": "scatterpolar"
           }
          ],
          "scatterpolargl": [
           {
            "marker": {
             "colorbar": {
              "outlinewidth": 0,
              "ticks": ""
             }
            },
            "type": "scatterpolargl"
           }
          ],
          "scatterternary": [
           {
            "marker": {
             "colorbar": {
              "outlinewidth": 0,
              "ticks": ""
             }
            },
            "type": "scatterternary"
           }
          ],
          "surface": [
           {
            "colorbar": {
             "outlinewidth": 0,
             "ticks": ""
            },
            "colorscale": [
             [
              0,
              "#0d0887"
             ],
             [
              0.1111111111111111,
              "#46039f"
             ],
             [
              0.2222222222222222,
              "#7201a8"
             ],
             [
              0.3333333333333333,
              "#9c179e"
             ],
             [
              0.4444444444444444,
              "#bd3786"
             ],
             [
              0.5555555555555556,
              "#d8576b"
             ],
             [
              0.6666666666666666,
              "#ed7953"
             ],
             [
              0.7777777777777778,
              "#fb9f3a"
             ],
             [
              0.8888888888888888,
              "#fdca26"
             ],
             [
              1,
              "#f0f921"
             ]
            ],
            "type": "surface"
           }
          ],
          "table": [
           {
            "cells": {
             "fill": {
              "color": "#EBF0F8"
             },
             "line": {
              "color": "white"
             }
            },
            "header": {
             "fill": {
              "color": "#C8D4E3"
             },
             "line": {
              "color": "white"
             }
            },
            "type": "table"
           }
          ]
         },
         "layout": {
          "annotationdefaults": {
           "arrowcolor": "#2a3f5f",
           "arrowhead": 0,
           "arrowwidth": 1
          },
          "autotypenumbers": "strict",
          "coloraxis": {
           "colorbar": {
            "outlinewidth": 0,
            "ticks": ""
           }
          },
          "colorscale": {
           "diverging": [
            [
             0,
             "#8e0152"
            ],
            [
             0.1,
             "#c51b7d"
            ],
            [
             0.2,
             "#de77ae"
            ],
            [
             0.3,
             "#f1b6da"
            ],
            [
             0.4,
             "#fde0ef"
            ],
            [
             0.5,
             "#f7f7f7"
            ],
            [
             0.6,
             "#e6f5d0"
            ],
            [
             0.7,
             "#b8e186"
            ],
            [
             0.8,
             "#7fbc41"
            ],
            [
             0.9,
             "#4d9221"
            ],
            [
             1,
             "#276419"
            ]
           ],
           "sequential": [
            [
             0,
             "#0d0887"
            ],
            [
             0.1111111111111111,
             "#46039f"
            ],
            [
             0.2222222222222222,
             "#7201a8"
            ],
            [
             0.3333333333333333,
             "#9c179e"
            ],
            [
             0.4444444444444444,
             "#bd3786"
            ],
            [
             0.5555555555555556,
             "#d8576b"
            ],
            [
             0.6666666666666666,
             "#ed7953"
            ],
            [
             0.7777777777777778,
             "#fb9f3a"
            ],
            [
             0.8888888888888888,
             "#fdca26"
            ],
            [
             1,
             "#f0f921"
            ]
           ],
           "sequentialminus": [
            [
             0,
             "#0d0887"
            ],
            [
             0.1111111111111111,
             "#46039f"
            ],
            [
             0.2222222222222222,
             "#7201a8"
            ],
            [
             0.3333333333333333,
             "#9c179e"
            ],
            [
             0.4444444444444444,
             "#bd3786"
            ],
            [
             0.5555555555555556,
             "#d8576b"
            ],
            [
             0.6666666666666666,
             "#ed7953"
            ],
            [
             0.7777777777777778,
             "#fb9f3a"
            ],
            [
             0.8888888888888888,
             "#fdca26"
            ],
            [
             1,
             "#f0f921"
            ]
           ]
          },
          "colorway": [
           "#636efa",
           "#EF553B",
           "#00cc96",
           "#ab63fa",
           "#FFA15A",
           "#19d3f3",
           "#FF6692",
           "#B6E880",
           "#FF97FF",
           "#FECB52"
          ],
          "font": {
           "color": "#2a3f5f"
          },
          "geo": {
           "bgcolor": "white",
           "lakecolor": "white",
           "landcolor": "#E5ECF6",
           "showlakes": true,
           "showland": true,
           "subunitcolor": "white"
          },
          "hoverlabel": {
           "align": "left"
          },
          "hovermode": "closest",
          "mapbox": {
           "style": "light"
          },
          "paper_bgcolor": "white",
          "plot_bgcolor": "#E5ECF6",
          "polar": {
           "angularaxis": {
            "gridcolor": "white",
            "linecolor": "white",
            "ticks": ""
           },
           "bgcolor": "#E5ECF6",
           "radialaxis": {
            "gridcolor": "white",
            "linecolor": "white",
            "ticks": ""
           }
          },
          "scene": {
           "xaxis": {
            "backgroundcolor": "#E5ECF6",
            "gridcolor": "white",
            "gridwidth": 2,
            "linecolor": "white",
            "showbackground": true,
            "ticks": "",
            "zerolinecolor": "white"
           },
           "yaxis": {
            "backgroundcolor": "#E5ECF6",
            "gridcolor": "white",
            "gridwidth": 2,
            "linecolor": "white",
            "showbackground": true,
            "ticks": "",
            "zerolinecolor": "white"
           },
           "zaxis": {
            "backgroundcolor": "#E5ECF6",
            "gridcolor": "white",
            "gridwidth": 2,
            "linecolor": "white",
            "showbackground": true,
            "ticks": "",
            "zerolinecolor": "white"
           }
          },
          "shapedefaults": {
           "line": {
            "color": "#2a3f5f"
           }
          },
          "ternary": {
           "aaxis": {
            "gridcolor": "white",
            "linecolor": "white",
            "ticks": ""
           },
           "baxis": {
            "gridcolor": "white",
            "linecolor": "white",
            "ticks": ""
           },
           "bgcolor": "#E5ECF6",
           "caxis": {
            "gridcolor": "white",
            "linecolor": "white",
            "ticks": ""
           }
          },
          "title": {
           "x": 0.05
          },
          "xaxis": {
           "automargin": true,
           "gridcolor": "white",
           "linecolor": "white",
           "ticks": "",
           "title": {
            "standoff": 15
           },
           "zerolinecolor": "white",
           "zerolinewidth": 2
          },
          "yaxis": {
           "automargin": true,
           "gridcolor": "white",
           "linecolor": "white",
           "ticks": "",
           "title": {
            "standoff": 15
           },
           "zerolinecolor": "white",
           "zerolinewidth": 2
          }
         }
        },
        "title": {
         "text": "Correlation Heatmap"
        },
        "width": 800
       }
      }
     },
     "metadata": {},
     "output_type": "display_data"
    }
   ],
   "source": [
    "import plotly.graph_objs as go\n",
    "import numpy as np\n",
    "\n",
    "corr = df.corr(numeric_only=True)\n",
    "\n",
    "heatmap = go.Heatmap(\n",
    "    z=corr.values,\n",
    "    x=corr.columns,\n",
    "    y=corr.columns,\n",
    "    colorscale=\"RdBu\",\n",
    "    zmin=-1, zmax=1,\n",
    "    colorbar=dict(title=\"Correlation\")\n",
    ")\n",
    "\n",
    "fig = go.Figure(data=[heatmap])\n",
    "fig.update_layout(title=\"Correlation Heatmap\", width=800, height=700)\n",
    "fig.show()\n"
   ]
  },
  {
   "cell_type": "code",
   "execution_count": null,
   "id": "8795992f",
   "metadata": {},
   "outputs": [
    {
     "name": "stdout",
     "output_type": "stream",
     "text": [
      "round_winner                    1.000000\n",
      "ct_armor                        0.336382\n",
      "ct_helmets                      0.308255\n",
      "t_helmets                       0.297458\n",
      "ct_defuse_kits                  0.291557\n",
      "t_armor                         0.290753\n",
      "ct_grenade_flashbang            0.253868\n",
      "ct_players_alive                0.216798\n",
      "ct_grenade_smokegrenade         0.209975\n",
      "ct_weapon_awp                   0.198626\n",
      "t_weapon_ak47                   0.194147\n",
      "ct_health                       0.190662\n",
      "bomb_planted                    0.187101\n",
      "ct_weapon_m4a4                  0.178008\n",
      "ct_grenade_hegrenade            0.168781\n",
      "ct_grenade_incendiarygrenade    0.168517\n",
      "ct_weapon_ak47                  0.166855\n",
      "t_grenade_flashbang             0.166839\n",
      "ct_weapon_sg553                 0.163963\n",
      "t_weapon_sg553                  0.163709\n",
      "ct_weapon_usps                  0.152893\n",
      "t_weapon_awp                    0.149878\n",
      "t_players_alive                 0.142518\n",
      "t_grenade_smokegrenade          0.140348\n",
      "t_weapon_usps                   0.136694\n",
      "Name: round_winner, dtype: float64\n"
     ]
    }
   ],
   "source": [
    "# alleen numerical values\n",
    "numeric_cols = [col for col in df.columns if df[col].dtype in [\"int64\", \"float64\"]]\n",
    "correlations = df[numeric_cols].corr()\n",
    "\n",
    "# wij pakken de 25 meest correleerde waardes \n",
    "top_corrs = correlations[\"round_winner\"].apply(abs).sort_values(ascending=False).iloc[:25]\n",
    "print(top_corrs)\n"
   ]
  },
  {
   "cell_type": "code",
   "execution_count": 12,
   "id": "e1d678ce",
   "metadata": {},
   "outputs": [],
   "source": [
    "seleceted_colums = []\n",
    "\n",
    "for col in colomnus+[\"round_winner\"]:\n",
    "    try:\n",
    "        if abs(correlations[col][\"round_winner\"]) > 0.15:\n",
    "            seleceted_colums.append(col)\n",
    "    except KeyError:\n",
    "        pass\n",
    "df_selected = df[seleceted_colums]"
   ]
  },
  {
   "cell_type": "code",
   "execution_count": 13,
   "id": "e18dda13",
   "metadata": {},
   "outputs": [
    {
     "data": {
      "text/html": [
       "<div>\n",
       "<style scoped>\n",
       "    .dataframe tbody tr th:only-of-type {\n",
       "        vertical-align: middle;\n",
       "    }\n",
       "\n",
       "    .dataframe tbody tr th {\n",
       "        vertical-align: top;\n",
       "    }\n",
       "\n",
       "    .dataframe thead th {\n",
       "        text-align: right;\n",
       "    }\n",
       "</style>\n",
       "<table border=\"1\" class=\"dataframe\">\n",
       "  <thead>\n",
       "    <tr style=\"text-align: right;\">\n",
       "      <th></th>\n",
       "      <th>bomb_planted</th>\n",
       "      <th>ct_health</th>\n",
       "      <th>ct_armor</th>\n",
       "      <th>t_armor</th>\n",
       "      <th>ct_helmets</th>\n",
       "      <th>t_helmets</th>\n",
       "      <th>ct_defuse_kits</th>\n",
       "      <th>ct_players_alive</th>\n",
       "      <th>ct_weapon_ak47</th>\n",
       "      <th>t_weapon_ak47</th>\n",
       "      <th>...</th>\n",
       "      <th>ct_weapon_sg553</th>\n",
       "      <th>t_weapon_sg553</th>\n",
       "      <th>ct_weapon_usps</th>\n",
       "      <th>ct_grenade_hegrenade</th>\n",
       "      <th>ct_grenade_flashbang</th>\n",
       "      <th>t_grenade_flashbang</th>\n",
       "      <th>ct_grenade_smokegrenade</th>\n",
       "      <th>ct_grenade_incendiarygrenade</th>\n",
       "      <th>round_winner</th>\n",
       "      <th>round_winner</th>\n",
       "    </tr>\n",
       "  </thead>\n",
       "  <tbody>\n",
       "    <tr>\n",
       "      <th>0</th>\n",
       "      <td>0</td>\n",
       "      <td>500.0</td>\n",
       "      <td>0.0</td>\n",
       "      <td>0.0</td>\n",
       "      <td>0.0</td>\n",
       "      <td>0.0</td>\n",
       "      <td>0.0</td>\n",
       "      <td>5.0</td>\n",
       "      <td>0.0</td>\n",
       "      <td>0.0</td>\n",
       "      <td>...</td>\n",
       "      <td>0.0</td>\n",
       "      <td>0.0</td>\n",
       "      <td>4.0</td>\n",
       "      <td>0.0</td>\n",
       "      <td>0.0</td>\n",
       "      <td>0.0</td>\n",
       "      <td>0.0</td>\n",
       "      <td>0.0</td>\n",
       "      <td>0</td>\n",
       "      <td>0</td>\n",
       "    </tr>\n",
       "    <tr>\n",
       "      <th>1</th>\n",
       "      <td>0</td>\n",
       "      <td>500.0</td>\n",
       "      <td>400.0</td>\n",
       "      <td>300.0</td>\n",
       "      <td>0.0</td>\n",
       "      <td>0.0</td>\n",
       "      <td>1.0</td>\n",
       "      <td>5.0</td>\n",
       "      <td>0.0</td>\n",
       "      <td>0.0</td>\n",
       "      <td>...</td>\n",
       "      <td>0.0</td>\n",
       "      <td>0.0</td>\n",
       "      <td>4.0</td>\n",
       "      <td>0.0</td>\n",
       "      <td>0.0</td>\n",
       "      <td>0.0</td>\n",
       "      <td>0.0</td>\n",
       "      <td>0.0</td>\n",
       "      <td>0</td>\n",
       "      <td>0</td>\n",
       "    </tr>\n",
       "    <tr>\n",
       "      <th>2</th>\n",
       "      <td>0</td>\n",
       "      <td>391.0</td>\n",
       "      <td>294.0</td>\n",
       "      <td>200.0</td>\n",
       "      <td>0.0</td>\n",
       "      <td>0.0</td>\n",
       "      <td>1.0</td>\n",
       "      <td>4.0</td>\n",
       "      <td>0.0</td>\n",
       "      <td>0.0</td>\n",
       "      <td>...</td>\n",
       "      <td>0.0</td>\n",
       "      <td>0.0</td>\n",
       "      <td>4.0</td>\n",
       "      <td>0.0</td>\n",
       "      <td>0.0</td>\n",
       "      <td>0.0</td>\n",
       "      <td>0.0</td>\n",
       "      <td>0.0</td>\n",
       "      <td>0</td>\n",
       "      <td>0</td>\n",
       "    </tr>\n",
       "    <tr>\n",
       "      <th>3</th>\n",
       "      <td>0</td>\n",
       "      <td>391.0</td>\n",
       "      <td>294.0</td>\n",
       "      <td>200.0</td>\n",
       "      <td>0.0</td>\n",
       "      <td>0.0</td>\n",
       "      <td>1.0</td>\n",
       "      <td>4.0</td>\n",
       "      <td>0.0</td>\n",
       "      <td>0.0</td>\n",
       "      <td>...</td>\n",
       "      <td>0.0</td>\n",
       "      <td>0.0</td>\n",
       "      <td>4.0</td>\n",
       "      <td>0.0</td>\n",
       "      <td>0.0</td>\n",
       "      <td>0.0</td>\n",
       "      <td>0.0</td>\n",
       "      <td>0.0</td>\n",
       "      <td>0</td>\n",
       "      <td>0</td>\n",
       "    </tr>\n",
       "    <tr>\n",
       "      <th>4</th>\n",
       "      <td>0</td>\n",
       "      <td>500.0</td>\n",
       "      <td>192.0</td>\n",
       "      <td>0.0</td>\n",
       "      <td>0.0</td>\n",
       "      <td>0.0</td>\n",
       "      <td>1.0</td>\n",
       "      <td>5.0</td>\n",
       "      <td>0.0</td>\n",
       "      <td>0.0</td>\n",
       "      <td>...</td>\n",
       "      <td>0.0</td>\n",
       "      <td>0.0</td>\n",
       "      <td>4.0</td>\n",
       "      <td>0.0</td>\n",
       "      <td>0.0</td>\n",
       "      <td>0.0</td>\n",
       "      <td>0.0</td>\n",
       "      <td>0.0</td>\n",
       "      <td>0</td>\n",
       "      <td>0</td>\n",
       "    </tr>\n",
       "    <tr>\n",
       "      <th>...</th>\n",
       "      <td>...</td>\n",
       "      <td>...</td>\n",
       "      <td>...</td>\n",
       "      <td>...</td>\n",
       "      <td>...</td>\n",
       "      <td>...</td>\n",
       "      <td>...</td>\n",
       "      <td>...</td>\n",
       "      <td>...</td>\n",
       "      <td>...</td>\n",
       "      <td>...</td>\n",
       "      <td>...</td>\n",
       "      <td>...</td>\n",
       "      <td>...</td>\n",
       "      <td>...</td>\n",
       "      <td>...</td>\n",
       "      <td>...</td>\n",
       "      <td>...</td>\n",
       "      <td>...</td>\n",
       "      <td>...</td>\n",
       "      <td>...</td>\n",
       "    </tr>\n",
       "    <tr>\n",
       "      <th>122405</th>\n",
       "      <td>1</td>\n",
       "      <td>200.0</td>\n",
       "      <td>195.0</td>\n",
       "      <td>359.0</td>\n",
       "      <td>2.0</td>\n",
       "      <td>4.0</td>\n",
       "      <td>1.0</td>\n",
       "      <td>2.0</td>\n",
       "      <td>0.0</td>\n",
       "      <td>1.0</td>\n",
       "      <td>...</td>\n",
       "      <td>0.0</td>\n",
       "      <td>2.0</td>\n",
       "      <td>2.0</td>\n",
       "      <td>0.0</td>\n",
       "      <td>1.0</td>\n",
       "      <td>2.0</td>\n",
       "      <td>1.0</td>\n",
       "      <td>0.0</td>\n",
       "      <td>1</td>\n",
       "      <td>1</td>\n",
       "    </tr>\n",
       "    <tr>\n",
       "      <th>122406</th>\n",
       "      <td>0</td>\n",
       "      <td>500.0</td>\n",
       "      <td>95.0</td>\n",
       "      <td>175.0</td>\n",
       "      <td>1.0</td>\n",
       "      <td>2.0</td>\n",
       "      <td>1.0</td>\n",
       "      <td>5.0</td>\n",
       "      <td>0.0</td>\n",
       "      <td>0.0</td>\n",
       "      <td>...</td>\n",
       "      <td>0.0</td>\n",
       "      <td>1.0</td>\n",
       "      <td>5.0</td>\n",
       "      <td>0.0</td>\n",
       "      <td>1.0</td>\n",
       "      <td>2.0</td>\n",
       "      <td>1.0</td>\n",
       "      <td>0.0</td>\n",
       "      <td>1</td>\n",
       "      <td>1</td>\n",
       "    </tr>\n",
       "    <tr>\n",
       "      <th>122407</th>\n",
       "      <td>0</td>\n",
       "      <td>500.0</td>\n",
       "      <td>495.0</td>\n",
       "      <td>475.0</td>\n",
       "      <td>3.0</td>\n",
       "      <td>5.0</td>\n",
       "      <td>1.0</td>\n",
       "      <td>5.0</td>\n",
       "      <td>0.0</td>\n",
       "      <td>2.0</td>\n",
       "      <td>...</td>\n",
       "      <td>0.0</td>\n",
       "      <td>1.0</td>\n",
       "      <td>1.0</td>\n",
       "      <td>2.0</td>\n",
       "      <td>4.0</td>\n",
       "      <td>4.0</td>\n",
       "      <td>3.0</td>\n",
       "      <td>1.0</td>\n",
       "      <td>1</td>\n",
       "      <td>1</td>\n",
       "    </tr>\n",
       "    <tr>\n",
       "      <th>122408</th>\n",
       "      <td>0</td>\n",
       "      <td>500.0</td>\n",
       "      <td>495.0</td>\n",
       "      <td>475.0</td>\n",
       "      <td>3.0</td>\n",
       "      <td>5.0</td>\n",
       "      <td>1.0</td>\n",
       "      <td>5.0</td>\n",
       "      <td>0.0</td>\n",
       "      <td>2.0</td>\n",
       "      <td>...</td>\n",
       "      <td>0.0</td>\n",
       "      <td>2.0</td>\n",
       "      <td>1.0</td>\n",
       "      <td>2.0</td>\n",
       "      <td>1.0</td>\n",
       "      <td>5.0</td>\n",
       "      <td>0.0</td>\n",
       "      <td>0.0</td>\n",
       "      <td>1</td>\n",
       "      <td>1</td>\n",
       "    </tr>\n",
       "    <tr>\n",
       "      <th>122409</th>\n",
       "      <td>0</td>\n",
       "      <td>375.0</td>\n",
       "      <td>395.0</td>\n",
       "      <td>466.0</td>\n",
       "      <td>2.0</td>\n",
       "      <td>5.0</td>\n",
       "      <td>1.0</td>\n",
       "      <td>4.0</td>\n",
       "      <td>0.0</td>\n",
       "      <td>2.0</td>\n",
       "      <td>...</td>\n",
       "      <td>0.0</td>\n",
       "      <td>2.0</td>\n",
       "      <td>1.0</td>\n",
       "      <td>0.0</td>\n",
       "      <td>0.0</td>\n",
       "      <td>3.0</td>\n",
       "      <td>0.0</td>\n",
       "      <td>0.0</td>\n",
       "      <td>1</td>\n",
       "      <td>1</td>\n",
       "    </tr>\n",
       "  </tbody>\n",
       "</table>\n",
       "<p>122410 rows × 22 columns</p>\n",
       "</div>"
      ],
      "text/plain": [
       "        bomb_planted  ct_health  ct_armor  t_armor  ct_helmets  t_helmets  \\\n",
       "0                  0      500.0       0.0      0.0         0.0        0.0   \n",
       "1                  0      500.0     400.0    300.0         0.0        0.0   \n",
       "2                  0      391.0     294.0    200.0         0.0        0.0   \n",
       "3                  0      391.0     294.0    200.0         0.0        0.0   \n",
       "4                  0      500.0     192.0      0.0         0.0        0.0   \n",
       "...              ...        ...       ...      ...         ...        ...   \n",
       "122405             1      200.0     195.0    359.0         2.0        4.0   \n",
       "122406             0      500.0      95.0    175.0         1.0        2.0   \n",
       "122407             0      500.0     495.0    475.0         3.0        5.0   \n",
       "122408             0      500.0     495.0    475.0         3.0        5.0   \n",
       "122409             0      375.0     395.0    466.0         2.0        5.0   \n",
       "\n",
       "        ct_defuse_kits  ct_players_alive  ct_weapon_ak47  t_weapon_ak47  ...  \\\n",
       "0                  0.0               5.0             0.0            0.0  ...   \n",
       "1                  1.0               5.0             0.0            0.0  ...   \n",
       "2                  1.0               4.0             0.0            0.0  ...   \n",
       "3                  1.0               4.0             0.0            0.0  ...   \n",
       "4                  1.0               5.0             0.0            0.0  ...   \n",
       "...                ...               ...             ...            ...  ...   \n",
       "122405             1.0               2.0             0.0            1.0  ...   \n",
       "122406             1.0               5.0             0.0            0.0  ...   \n",
       "122407             1.0               5.0             0.0            2.0  ...   \n",
       "122408             1.0               5.0             0.0            2.0  ...   \n",
       "122409             1.0               4.0             0.0            2.0  ...   \n",
       "\n",
       "        ct_weapon_sg553  t_weapon_sg553  ct_weapon_usps  ct_grenade_hegrenade  \\\n",
       "0                   0.0             0.0             4.0                   0.0   \n",
       "1                   0.0             0.0             4.0                   0.0   \n",
       "2                   0.0             0.0             4.0                   0.0   \n",
       "3                   0.0             0.0             4.0                   0.0   \n",
       "4                   0.0             0.0             4.0                   0.0   \n",
       "...                 ...             ...             ...                   ...   \n",
       "122405              0.0             2.0             2.0                   0.0   \n",
       "122406              0.0             1.0             5.0                   0.0   \n",
       "122407              0.0             1.0             1.0                   2.0   \n",
       "122408              0.0             2.0             1.0                   2.0   \n",
       "122409              0.0             2.0             1.0                   0.0   \n",
       "\n",
       "        ct_grenade_flashbang  t_grenade_flashbang  ct_grenade_smokegrenade  \\\n",
       "0                        0.0                  0.0                      0.0   \n",
       "1                        0.0                  0.0                      0.0   \n",
       "2                        0.0                  0.0                      0.0   \n",
       "3                        0.0                  0.0                      0.0   \n",
       "4                        0.0                  0.0                      0.0   \n",
       "...                      ...                  ...                      ...   \n",
       "122405                   1.0                  2.0                      1.0   \n",
       "122406                   1.0                  2.0                      1.0   \n",
       "122407                   4.0                  4.0                      3.0   \n",
       "122408                   1.0                  5.0                      0.0   \n",
       "122409                   0.0                  3.0                      0.0   \n",
       "\n",
       "        ct_grenade_incendiarygrenade  round_winner  round_winner  \n",
       "0                                0.0             0             0  \n",
       "1                                0.0             0             0  \n",
       "2                                0.0             0             0  \n",
       "3                                0.0             0             0  \n",
       "4                                0.0             0             0  \n",
       "...                              ...           ...           ...  \n",
       "122405                           0.0             1             1  \n",
       "122406                           0.0             1             1  \n",
       "122407                           1.0             1             1  \n",
       "122408                           0.0             1             1  \n",
       "122409                           0.0             1             1  \n",
       "\n",
       "[122410 rows x 22 columns]"
      ]
     },
     "execution_count": 13,
     "metadata": {},
     "output_type": "execute_result"
    }
   ],
   "source": [
    "df_selected"
   ]
  },
  {
   "cell_type": "code",
   "execution_count": 14,
   "id": "46e7af8c",
   "metadata": {},
   "outputs": [
    {
     "data": {
      "application/vnd.plotly.v1+json": {
       "config": {
        "plotlyServerURL": "https://plot.ly"
       },
       "data": [
        {
         "colorbar": {
          "title": {
           "text": "Correlation"
          }
         },
         "colorscale": [
          [
           0,
           "rgb(103,0,31)"
          ],
          [
           0.1,
           "rgb(178,24,43)"
          ],
          [
           0.2,
           "rgb(214,96,77)"
          ],
          [
           0.3,
           "rgb(244,165,130)"
          ],
          [
           0.4,
           "rgb(253,219,199)"
          ],
          [
           0.5,
           "rgb(247,247,247)"
          ],
          [
           0.6,
           "rgb(209,229,240)"
          ],
          [
           0.7,
           "rgb(146,197,222)"
          ],
          [
           0.8,
           "rgb(67,147,195)"
          ],
          [
           0.9,
           "rgb(33,102,172)"
          ],
          [
           1,
           "rgb(5,48,97)"
          ]
         ],
         "type": "heatmap",
         "x": [
          "bomb_planted",
          "ct_health",
          "ct_armor",
          "t_armor",
          "ct_helmets",
          "t_helmets",
          "ct_defuse_kits",
          "ct_players_alive",
          "ct_weapon_ak47",
          "t_weapon_ak47",
          "ct_weapon_awp",
          "ct_weapon_m4a4",
          "ct_weapon_sg553",
          "t_weapon_sg553",
          "ct_weapon_usps",
          "ct_grenade_hegrenade",
          "ct_grenade_flashbang",
          "t_grenade_flashbang",
          "ct_grenade_smokegrenade",
          "ct_grenade_incendiarygrenade",
          "round_winner",
          "round_winner"
         ],
         "y": [
          "bomb_planted",
          "ct_health",
          "ct_armor",
          "t_armor",
          "ct_helmets",
          "t_helmets",
          "ct_defuse_kits",
          "ct_players_alive",
          "ct_weapon_ak47",
          "t_weapon_ak47",
          "ct_weapon_awp",
          "ct_weapon_m4a4",
          "ct_weapon_sg553",
          "t_weapon_sg553",
          "ct_weapon_usps",
          "ct_grenade_hegrenade",
          "ct_grenade_flashbang",
          "t_grenade_flashbang",
          "ct_grenade_smokegrenade",
          "ct_grenade_incendiarygrenade",
          "round_winner",
          "round_winner"
         ],
         "z": {
          "bdata": "AAAAAAAA8D+QB/0n7c/jv7co7f+sA9K/jKpjGAu8uL/bED1n9OXGvx8qlnaqhae/2Ls3Ubylw78KWcmEFv3jv4ewHuMqLKO/5b/bMdofnL+d87Mxdzm2v17SR2jfdcO/EdPaVolEpr8CQexwOGeYv9jj7yi0d9i/TWckCFQ7yb/Tc96EbWzNv8uQh7d8Ocm/LBU5eO7Ny78kj9nt0KHIv0lHEizs8sc/SUcSLOzyxz+QB/0n7c/jvwAAAAAAAPA/NCj7uS0N2T/ENUpVGPTBP505v15Uws0/W5trGxz8qT9v94JjXynLP9o/et2WF+8/BzPjAaVxsT/6n5tASDuePxbGfwlyoMA//jrOSkxHxz/+tgKkC+qyPw4/JDZRNog/ZM/xYL7C4z9blpSCD0rTP2sjrVLW5tQ/XZa+5xzDzz9EWej2qJHVP3v0PgCHK9M/Ggs3h5xnyL8aCzeHnGfIv7co7f+sA9K/NCj7uS0N2T8AAAAAAADwP/uwfNzz8NI/OIFyAPg55j+/snw0tcPMPyqAjyzgOeM/9htiCas72z9GNpl8s4fKPykHgRNOT8U/1iUFmc4b3D/A+7KkCPLiPwjUPmyvaMo/WM/IV72/vz+7nVcuK1XGPxU7Ugj8meE/aWMfXCBL5z9H2zJCZf/RPy9t6cmsUOU/zRS/Fy0K4j+8UXN/R4fVv7xRc39Hh9W/jKpjGAu8uL/ENUpVGPTBP/uwfNzz8NI/AAAAAAAA8D/6Q4S9zJrAP/cn55mDFew/iRtQdjwHvj+U+dNL59rAP2zOy3b+CbS/Nzw/5b/q4j+qg3qWZ02/P+WdEvH0I9E/3whyWYcTsL+fZ7jzu3HcPxy4Pz2BmLC/J+zn4zNMzz+KXVrciyDRP+EzoMhcp+c/46hOnElC0T9U9Vna6h7QP4W4bsuzm9I/hbhuy7Ob0j/bED1n9OXGv505v15Uws0/OIFyAPg55j/6Q4S9zJrAPwAAAAAAAPA/viGmKyj7wj9rVWjako3oP0GkaCtcgtA/kWCRqjTD1T8rWBJGZXu/P1AGVWDrw9o/qbcNa3Y53T8p+Tp+ZCDVP/iocV4XxKs/aj0wZRcDcL+d1u8d3T7iP6zU8saBUuc/rNlGiOqouj8uL4CddHLkP7ZeQVB4M+M/OpHqznO60786kerOc7rTvx8qlnaqhae/W5trGxz8qT+/snw0tcPMP/cn55mDFew/viGmKyj7wj8AAAAAAADwPxPUGEBEc7c/Z5tUJF38pz9c81zFHoqwvx/K2nb0jeU/ljrQ0wnLxj+4HHNi3bDUP+A72QcuCaq/Um9ly3+w4D+doWgHGwvDv1MhZNFvQsw/dNLcr1ew0T8GCM7bepvoP5zdkBUfqtE/LNLXTmatzj92xOXZjQnTP3bE5dmNCdM/2Ls3Ubylw79v94JjXynLPyqAjyzgOeM/iRtQdjwHvj9rVWjako3oPxPUGEBEc7c/AAAAAAAA8D/IpLV8eIjNP+sgycBssdc/ntst8gFJvD+92Kzim6PgPz1Nd0ga79w/s5lpI14n2D+rf7fpvwuzP2D8AYbufKU/n8OVbql94T8IXM1YOHXmP+B9O+XwDrg/0hY2eDOU4j8C5+CiXG/jPw67FprdqNK/DrsWmt2o0r8KWcmEFv3jv9o/et2WF+8/9htiCas72z+U+dNL59rAP0GkaCtcgtA/Z5tUJF38pz/IpLV8eIjNPwAAAAAAAPA/86FLziFztD/iV5NxGq2aP/AvIYUaLcI/CEc55tHqyT/qrmQXg0+1P0s/18opM4E/tEnTMjrq4z+Dd7iyw3jSPyjwbiOAOdU/sQ1nUdH0zT/KKXmKoiDVP3daQ+LsadI/4w1xYwjAy7/jDXFjCMDLv4ewHuMqLKO/BzPjAaVxsT9GNpl8s4fKP2zOy3b+CbS/kWCRqjTD1T9c81zFHoqwv+sgycBssdc/86FLziFztD8AAAAAAADwP4LrJhMGd6Y/pOiVnooiwT8c5pfvExTcvpB2DDVFQo4/qDNNu2WtwL/T9/AwhG+mv9pHgDGrm8o/NW+RbUmp0T9YnSmqWsawv0Nh4u3hScs/6rCC4okgyz+iKkHwglvFv6IqQfCCW8W/5b/bMdofnL/6n5tASDuePykHgRNOT8U/Nzw/5b/q4j8rWBJGZXu/Px/K2nb0jeU/ntst8gFJvD/iV5NxGq2aP4LrJhMGd6Y/AAAAAAAA8D9MQYfoFnDEPz/slPfWb80/bzctDd+6vb/xictN4W+pv8KZ7QqDu7a/A04iv8/9xj9NOBPVrzXMP8XkPcuNVuE/J/1k1hkJyz80ErkpEJnIPx8iwnHN2cg/HyLCcc3ZyD+d87Mxdzm2vxbGfwlyoMA/1iUFmc4b3D+qg3qWZ02/P1AGVWDrw9o/ljrQ0wnLxj+92Kzim6PgP/AvIYUaLcI/pOiVnooiwT9MQYfoFnDEPwAAAAAAAPA/+OMivv5R1T8iBjzoHTbCPzFRIQEqzL8/GyqgNypJsD8+yUBIWg3WP/FM+XNr3N8/ogWuMcAfwz/H9hWdPvHbP5+AhhcNHto/NCjmGpFsyb80KOYakWzJv17SR2jfdcO//jrOSkxHxz/A+7KkCPLiP+WdEvH0I9E/qbcNa3Y53T+4HHNi3bDUPz1Nd0ga79w/CEc55tHqyT8c5pfvExTcvj/slPfWb80/+OMivv5R1T8AAAAAAADwPx4/iw3nDqI/KsBmP16vzj8qSkSjG4nJP9xU6CpSb9s/iUKbfJ0g4z+1LniGGz7TP5paFwZRouE/aWS0YveF3j/D7Itj88jGv8Psi2PzyMa/EdPaVolEpr/+tgKkC+qyPwjUPmyvaMo/3whyWYcTsL8p+Tp+ZCDVP+A72QcuCaq/s5lpI14n2D/qrmQXg0+1P5B2DDVFQo4/bzctDd+6vb8iBjzoHTbCPx4/iw3nDqI/AAAAAAAA8D/EYWaMrVq4PwELD6o+/6K/AuAaDqiMyD/0JIthkmPRP6XHWFzSe6i/jeVdVst7yz+ASMNaBtLKP9xNsEm6/MS/3E2wSbr8xL8CQexwOGeYvw4/JDZRNog/WM/IV72/vz+fZ7jzu3HcP/iocV4XxKs/Um9ly3+w4D+rf7fpvwuzP0s/18opM4E/qDNNu2WtwL/xictN4W+pvzFRIQEqzL8/KsBmP16vzj/EYWaMrVq4PwAAAAAAAPA/jPonNgD0rr9BINnWlyW7Pzs5igcmbcU/Xh5c1dTV2z8y/R6j8PbDP6F90iryUcI/LwUAPWf0xD8vBQA9Z/TEP9jj7yi0d9i/ZM/xYL7C4z+7nVcuK1XGPxy4Pz2BmLC/aj0wZRcDcL+doWgHGwvDv2D8AYbufKU/tEnTMjrq4z/T9/AwhG+mv8KZ7QqDu7a/GyqgNypJsD8qSkSjG4nJPwELD6o+/6K/jPonNgD0rr8AAAAAAADwP/n94MJssb8/WYmEAs23wz9xkey8hTqFPx4d/e2HQcY/ERCmjgVuwD8wY5NL/ZHDvzBjk0v9kcO/TWckCFQ7yb9blpSCD0rTPxU7Ugj8meE/J+zn4zNMzz+d1u8d3T7iP1MhZNFvQsw/n8OVbql94T+Dd7iyw3jSP9pHgDGrm8o/A04iv8/9xj8+yUBIWg3WP9xU6CpSb9s/AuAaDqiMyD9BINnWlyW7P/n94MJssb8/AAAAAAAA8D+T8DApnoDmP8vxp9f5BtQ/Wm3Oxg/65z8PULfs6HjoP2XI8K6emsW/Zcjwrp6axb/Tc96EbWzNv2sjrVLW5tQ/aWMfXCBL5z+KXVrciyDRP6zU8saBUuc/dNLcr1ew0T8IXM1YOHXmPyjwbiOAOdU/NW+RbUmp0T9NOBPVrzXMP/FM+XNr3N8/iUKbfJ0g4z/0JIthkmPRPzs5igcmbcU/WYmEAs23wz+T8DApnoDmPwAAAAAAAPA/0hi9O0aO1D/wVEqU88PpP/Rt5SdiD+g/epQolF0/0L96lCiUXT/Qv8uQh7d8Ocm/XZa+5xzDzz9H2zJCZf/RP+EzoMhcp+c/rNlGiOqouj8GCM7bepvoP+B9O+XwDrg/sQ1nUdH0zT9YnSmqWsawv8XkPcuNVuE/ogWuMcAfwz+1LniGGz7TP6XHWFzSe6i/Xh5c1dTV2z9xkey8hTqFP8vxp9f5BtQ/0hi9O0aO1D8AAAAAAADwP86/mjwwTdc/gmt0mYsz1T9oyoxz+VrFP2jKjHP5WsU/LBU5eO7Ny79EWej2qJHVPy9t6cmsUOU/46hOnElC0T8uL4CddHLkP5zdkBUfqtE/0hY2eDOU4j/KKXmKoiDVP0Nh4u3hScs/J/1k1hkJyz/H9hWdPvHbP5paFwZRouE/jeVdVst7yz8y/R6j8PbDPx4d/e2HQcY/Wm3Oxg/65z/wVEqU88PpP86/mjwwTdc/AAAAAAAA8D+WnJOZ9KDpP/Nlleh04Mq/82WV6HTgyr8kj9nt0KHIv3v0PgCHK9M/zRS/Fy0K4j9U9Vna6h7QP7ZeQVB4M+M/LNLXTmatzj8C5+CiXG/jP3daQ+LsadI/6rCC4okgyz80ErkpEJnIP5+AhhcNHto/aWS0YveF3j+ASMNaBtLKP6F90iryUcI/ERCmjgVuwD8PULfs6HjoP/Rt5SdiD+g/gmt0mYsz1T+WnJOZ9KDpPwAAAAAAAPA/SjiFa/mRxb9KOIVr+ZHFv0lHEizs8sc/Ggs3h5xnyL+8UXN/R4fVv4W4bsuzm9I/OpHqznO60792xOXZjQnTPw67FprdqNK/4w1xYwjAy7+iKkHwglvFvx8iwnHN2cg/NCjmGpFsyb/D7Itj88jGv9xNsEm6/MS/LwUAPWf0xD8wY5NL/ZHDv2XI8K6emsW/epQolF0/0L9oyoxz+VrFP/Nlleh04Mq/SjiFa/mRxb8AAAAAAADwPwAAAAAAAPA/SUcSLOzyxz8aCzeHnGfIv7xRc39Hh9W/hbhuy7Ob0j86kerOc7rTv3bE5dmNCdM/DrsWmt2o0r/jDXFjCMDLv6IqQfCCW8W/HyLCcc3ZyD80KOYakWzJv8Psi2PzyMa/3E2wSbr8xL8vBQA9Z/TEPzBjk0v9kcO/Zcjwrp6axb96lCiUXT/Qv2jKjHP5WsU/82WV6HTgyr9KOIVr+ZHFvwAAAAAAAPA/AAAAAAAA8D8=",
          "dtype": "f8",
          "shape": "22, 22"
         },
         "zmax": 1,
         "zmin": -1
        }
       ],
       "layout": {
        "height": 700,
        "template": {
         "data": {
          "bar": [
           {
            "error_x": {
             "color": "#2a3f5f"
            },
            "error_y": {
             "color": "#2a3f5f"
            },
            "marker": {
             "line": {
              "color": "#E5ECF6",
              "width": 0.5
             },
             "pattern": {
              "fillmode": "overlay",
              "size": 10,
              "solidity": 0.2
             }
            },
            "type": "bar"
           }
          ],
          "barpolar": [
           {
            "marker": {
             "line": {
              "color": "#E5ECF6",
              "width": 0.5
             },
             "pattern": {
              "fillmode": "overlay",
              "size": 10,
              "solidity": 0.2
             }
            },
            "type": "barpolar"
           }
          ],
          "carpet": [
           {
            "aaxis": {
             "endlinecolor": "#2a3f5f",
             "gridcolor": "white",
             "linecolor": "white",
             "minorgridcolor": "white",
             "startlinecolor": "#2a3f5f"
            },
            "baxis": {
             "endlinecolor": "#2a3f5f",
             "gridcolor": "white",
             "linecolor": "white",
             "minorgridcolor": "white",
             "startlinecolor": "#2a3f5f"
            },
            "type": "carpet"
           }
          ],
          "choropleth": [
           {
            "colorbar": {
             "outlinewidth": 0,
             "ticks": ""
            },
            "type": "choropleth"
           }
          ],
          "contour": [
           {
            "colorbar": {
             "outlinewidth": 0,
             "ticks": ""
            },
            "colorscale": [
             [
              0,
              "#0d0887"
             ],
             [
              0.1111111111111111,
              "#46039f"
             ],
             [
              0.2222222222222222,
              "#7201a8"
             ],
             [
              0.3333333333333333,
              "#9c179e"
             ],
             [
              0.4444444444444444,
              "#bd3786"
             ],
             [
              0.5555555555555556,
              "#d8576b"
             ],
             [
              0.6666666666666666,
              "#ed7953"
             ],
             [
              0.7777777777777778,
              "#fb9f3a"
             ],
             [
              0.8888888888888888,
              "#fdca26"
             ],
             [
              1,
              "#f0f921"
             ]
            ],
            "type": "contour"
           }
          ],
          "contourcarpet": [
           {
            "colorbar": {
             "outlinewidth": 0,
             "ticks": ""
            },
            "type": "contourcarpet"
           }
          ],
          "heatmap": [
           {
            "colorbar": {
             "outlinewidth": 0,
             "ticks": ""
            },
            "colorscale": [
             [
              0,
              "#0d0887"
             ],
             [
              0.1111111111111111,
              "#46039f"
             ],
             [
              0.2222222222222222,
              "#7201a8"
             ],
             [
              0.3333333333333333,
              "#9c179e"
             ],
             [
              0.4444444444444444,
              "#bd3786"
             ],
             [
              0.5555555555555556,
              "#d8576b"
             ],
             [
              0.6666666666666666,
              "#ed7953"
             ],
             [
              0.7777777777777778,
              "#fb9f3a"
             ],
             [
              0.8888888888888888,
              "#fdca26"
             ],
             [
              1,
              "#f0f921"
             ]
            ],
            "type": "heatmap"
           }
          ],
          "histogram": [
           {
            "marker": {
             "pattern": {
              "fillmode": "overlay",
              "size": 10,
              "solidity": 0.2
             }
            },
            "type": "histogram"
           }
          ],
          "histogram2d": [
           {
            "colorbar": {
             "outlinewidth": 0,
             "ticks": ""
            },
            "colorscale": [
             [
              0,
              "#0d0887"
             ],
             [
              0.1111111111111111,
              "#46039f"
             ],
             [
              0.2222222222222222,
              "#7201a8"
             ],
             [
              0.3333333333333333,
              "#9c179e"
             ],
             [
              0.4444444444444444,
              "#bd3786"
             ],
             [
              0.5555555555555556,
              "#d8576b"
             ],
             [
              0.6666666666666666,
              "#ed7953"
             ],
             [
              0.7777777777777778,
              "#fb9f3a"
             ],
             [
              0.8888888888888888,
              "#fdca26"
             ],
             [
              1,
              "#f0f921"
             ]
            ],
            "type": "histogram2d"
           }
          ],
          "histogram2dcontour": [
           {
            "colorbar": {
             "outlinewidth": 0,
             "ticks": ""
            },
            "colorscale": [
             [
              0,
              "#0d0887"
             ],
             [
              0.1111111111111111,
              "#46039f"
             ],
             [
              0.2222222222222222,
              "#7201a8"
             ],
             [
              0.3333333333333333,
              "#9c179e"
             ],
             [
              0.4444444444444444,
              "#bd3786"
             ],
             [
              0.5555555555555556,
              "#d8576b"
             ],
             [
              0.6666666666666666,
              "#ed7953"
             ],
             [
              0.7777777777777778,
              "#fb9f3a"
             ],
             [
              0.8888888888888888,
              "#fdca26"
             ],
             [
              1,
              "#f0f921"
             ]
            ],
            "type": "histogram2dcontour"
           }
          ],
          "mesh3d": [
           {
            "colorbar": {
             "outlinewidth": 0,
             "ticks": ""
            },
            "type": "mesh3d"
           }
          ],
          "parcoords": [
           {
            "line": {
             "colorbar": {
              "outlinewidth": 0,
              "ticks": ""
             }
            },
            "type": "parcoords"
           }
          ],
          "pie": [
           {
            "automargin": true,
            "type": "pie"
           }
          ],
          "scatter": [
           {
            "fillpattern": {
             "fillmode": "overlay",
             "size": 10,
             "solidity": 0.2
            },
            "type": "scatter"
           }
          ],
          "scatter3d": [
           {
            "line": {
             "colorbar": {
              "outlinewidth": 0,
              "ticks": ""
             }
            },
            "marker": {
             "colorbar": {
              "outlinewidth": 0,
              "ticks": ""
             }
            },
            "type": "scatter3d"
           }
          ],
          "scattercarpet": [
           {
            "marker": {
             "colorbar": {
              "outlinewidth": 0,
              "ticks": ""
             }
            },
            "type": "scattercarpet"
           }
          ],
          "scattergeo": [
           {
            "marker": {
             "colorbar": {
              "outlinewidth": 0,
              "ticks": ""
             }
            },
            "type": "scattergeo"
           }
          ],
          "scattergl": [
           {
            "marker": {
             "colorbar": {
              "outlinewidth": 0,
              "ticks": ""
             }
            },
            "type": "scattergl"
           }
          ],
          "scattermap": [
           {
            "marker": {
             "colorbar": {
              "outlinewidth": 0,
              "ticks": ""
             }
            },
            "type": "scattermap"
           }
          ],
          "scattermapbox": [
           {
            "marker": {
             "colorbar": {
              "outlinewidth": 0,
              "ticks": ""
             }
            },
            "type": "scattermapbox"
           }
          ],
          "scatterpolar": [
           {
            "marker": {
             "colorbar": {
              "outlinewidth": 0,
              "ticks": ""
             }
            },
            "type": "scatterpolar"
           }
          ],
          "scatterpolargl": [
           {
            "marker": {
             "colorbar": {
              "outlinewidth": 0,
              "ticks": ""
             }
            },
            "type": "scatterpolargl"
           }
          ],
          "scatterternary": [
           {
            "marker": {
             "colorbar": {
              "outlinewidth": 0,
              "ticks": ""
             }
            },
            "type": "scatterternary"
           }
          ],
          "surface": [
           {
            "colorbar": {
             "outlinewidth": 0,
             "ticks": ""
            },
            "colorscale": [
             [
              0,
              "#0d0887"
             ],
             [
              0.1111111111111111,
              "#46039f"
             ],
             [
              0.2222222222222222,
              "#7201a8"
             ],
             [
              0.3333333333333333,
              "#9c179e"
             ],
             [
              0.4444444444444444,
              "#bd3786"
             ],
             [
              0.5555555555555556,
              "#d8576b"
             ],
             [
              0.6666666666666666,
              "#ed7953"
             ],
             [
              0.7777777777777778,
              "#fb9f3a"
             ],
             [
              0.8888888888888888,
              "#fdca26"
             ],
             [
              1,
              "#f0f921"
             ]
            ],
            "type": "surface"
           }
          ],
          "table": [
           {
            "cells": {
             "fill": {
              "color": "#EBF0F8"
             },
             "line": {
              "color": "white"
             }
            },
            "header": {
             "fill": {
              "color": "#C8D4E3"
             },
             "line": {
              "color": "white"
             }
            },
            "type": "table"
           }
          ]
         },
         "layout": {
          "annotationdefaults": {
           "arrowcolor": "#2a3f5f",
           "arrowhead": 0,
           "arrowwidth": 1
          },
          "autotypenumbers": "strict",
          "coloraxis": {
           "colorbar": {
            "outlinewidth": 0,
            "ticks": ""
           }
          },
          "colorscale": {
           "diverging": [
            [
             0,
             "#8e0152"
            ],
            [
             0.1,
             "#c51b7d"
            ],
            [
             0.2,
             "#de77ae"
            ],
            [
             0.3,
             "#f1b6da"
            ],
            [
             0.4,
             "#fde0ef"
            ],
            [
             0.5,
             "#f7f7f7"
            ],
            [
             0.6,
             "#e6f5d0"
            ],
            [
             0.7,
             "#b8e186"
            ],
            [
             0.8,
             "#7fbc41"
            ],
            [
             0.9,
             "#4d9221"
            ],
            [
             1,
             "#276419"
            ]
           ],
           "sequential": [
            [
             0,
             "#0d0887"
            ],
            [
             0.1111111111111111,
             "#46039f"
            ],
            [
             0.2222222222222222,
             "#7201a8"
            ],
            [
             0.3333333333333333,
             "#9c179e"
            ],
            [
             0.4444444444444444,
             "#bd3786"
            ],
            [
             0.5555555555555556,
             "#d8576b"
            ],
            [
             0.6666666666666666,
             "#ed7953"
            ],
            [
             0.7777777777777778,
             "#fb9f3a"
            ],
            [
             0.8888888888888888,
             "#fdca26"
            ],
            [
             1,
             "#f0f921"
            ]
           ],
           "sequentialminus": [
            [
             0,
             "#0d0887"
            ],
            [
             0.1111111111111111,
             "#46039f"
            ],
            [
             0.2222222222222222,
             "#7201a8"
            ],
            [
             0.3333333333333333,
             "#9c179e"
            ],
            [
             0.4444444444444444,
             "#bd3786"
            ],
            [
             0.5555555555555556,
             "#d8576b"
            ],
            [
             0.6666666666666666,
             "#ed7953"
            ],
            [
             0.7777777777777778,
             "#fb9f3a"
            ],
            [
             0.8888888888888888,
             "#fdca26"
            ],
            [
             1,
             "#f0f921"
            ]
           ]
          },
          "colorway": [
           "#636efa",
           "#EF553B",
           "#00cc96",
           "#ab63fa",
           "#FFA15A",
           "#19d3f3",
           "#FF6692",
           "#B6E880",
           "#FF97FF",
           "#FECB52"
          ],
          "font": {
           "color": "#2a3f5f"
          },
          "geo": {
           "bgcolor": "white",
           "lakecolor": "white",
           "landcolor": "#E5ECF6",
           "showlakes": true,
           "showland": true,
           "subunitcolor": "white"
          },
          "hoverlabel": {
           "align": "left"
          },
          "hovermode": "closest",
          "mapbox": {
           "style": "light"
          },
          "paper_bgcolor": "white",
          "plot_bgcolor": "#E5ECF6",
          "polar": {
           "angularaxis": {
            "gridcolor": "white",
            "linecolor": "white",
            "ticks": ""
           },
           "bgcolor": "#E5ECF6",
           "radialaxis": {
            "gridcolor": "white",
            "linecolor": "white",
            "ticks": ""
           }
          },
          "scene": {
           "xaxis": {
            "backgroundcolor": "#E5ECF6",
            "gridcolor": "white",
            "gridwidth": 2,
            "linecolor": "white",
            "showbackground": true,
            "ticks": "",
            "zerolinecolor": "white"
           },
           "yaxis": {
            "backgroundcolor": "#E5ECF6",
            "gridcolor": "white",
            "gridwidth": 2,
            "linecolor": "white",
            "showbackground": true,
            "ticks": "",
            "zerolinecolor": "white"
           },
           "zaxis": {
            "backgroundcolor": "#E5ECF6",
            "gridcolor": "white",
            "gridwidth": 2,
            "linecolor": "white",
            "showbackground": true,
            "ticks": "",
            "zerolinecolor": "white"
           }
          },
          "shapedefaults": {
           "line": {
            "color": "#2a3f5f"
           }
          },
          "ternary": {
           "aaxis": {
            "gridcolor": "white",
            "linecolor": "white",
            "ticks": ""
           },
           "baxis": {
            "gridcolor": "white",
            "linecolor": "white",
            "ticks": ""
           },
           "bgcolor": "#E5ECF6",
           "caxis": {
            "gridcolor": "white",
            "linecolor": "white",
            "ticks": ""
           }
          },
          "title": {
           "x": 0.05
          },
          "xaxis": {
           "automargin": true,
           "gridcolor": "white",
           "linecolor": "white",
           "ticks": "",
           "title": {
            "standoff": 15
           },
           "zerolinecolor": "white",
           "zerolinewidth": 2
          },
          "yaxis": {
           "automargin": true,
           "gridcolor": "white",
           "linecolor": "white",
           "ticks": "",
           "title": {
            "standoff": 15
           },
           "zerolinecolor": "white",
           "zerolinewidth": 2
          }
         }
        },
        "title": {
         "text": "Correlation Heatmap"
        },
        "width": 800
       }
      }
     },
     "metadata": {},
     "output_type": "display_data"
    }
   ],
   "source": [
    "import plotly.graph_objs as go\n",
    "import numpy as np\n",
    "\n",
    "corr = df_selected.corr(numeric_only=True)\n",
    "\n",
    "heatmap = go.Heatmap(\n",
    "    z=corr.values,\n",
    "    x=corr.columns,\n",
    "    y=corr.columns,\n",
    "    colorscale=\"RdBu\",\n",
    "    zmin=-1, zmax=1,\n",
    "    colorbar=dict(title=\"Correlation\")\n",
    ")\n",
    "\n",
    "fig = go.Figure(data=[heatmap])\n",
    "fig.update_layout(title=\"Correlation Heatmap\", width=800, height=700)\n",
    "fig.show()"
   ]
  },
  {
   "cell_type": "code",
   "execution_count": 15,
   "id": "5a1ab743",
   "metadata": {},
   "outputs": [
    {
     "data": {
      "text/plain": [
       "array([[<Axes: title={'center': 'bomb_planted'}>,\n",
       "        <Axes: title={'center': 'ct_health'}>,\n",
       "        <Axes: title={'center': 'ct_armor'}>,\n",
       "        <Axes: title={'center': 't_armor'}>,\n",
       "        <Axes: title={'center': 'ct_helmets'}>],\n",
       "       [<Axes: title={'center': 't_helmets'}>,\n",
       "        <Axes: title={'center': 'ct_defuse_kits'}>,\n",
       "        <Axes: title={'center': 'ct_players_alive'}>,\n",
       "        <Axes: title={'center': 'ct_weapon_ak47'}>,\n",
       "        <Axes: title={'center': 't_weapon_ak47'}>],\n",
       "       [<Axes: title={'center': 'ct_weapon_awp'}>,\n",
       "        <Axes: title={'center': 'ct_weapon_m4a4'}>,\n",
       "        <Axes: title={'center': 'ct_weapon_sg553'}>,\n",
       "        <Axes: title={'center': 't_weapon_sg553'}>,\n",
       "        <Axes: title={'center': 'ct_weapon_usps'}>],\n",
       "       [<Axes: title={'center': 'ct_grenade_hegrenade'}>,\n",
       "        <Axes: title={'center': 'ct_grenade_flashbang'}>,\n",
       "        <Axes: title={'center': 't_grenade_flashbang'}>,\n",
       "        <Axes: title={'center': 'ct_grenade_smokegrenade'}>,\n",
       "        <Axes: title={'center': 'ct_grenade_incendiarygrenade'}>],\n",
       "       [<Axes: title={'center': 'round_winner'}>,\n",
       "        <Axes: title={'center': 'round_winner'}>, <Axes: >, <Axes: >,\n",
       "        <Axes: >]], dtype=object)"
      ]
     },
     "execution_count": 15,
     "metadata": {},
     "output_type": "execute_result"
    },
    {
     "data": {
      "image/png": "[encoded data removed]",
      "text/plain": [
       "<Figure size 1800x1200 with 25 Axes>"
      ]
     },
     "metadata": {},
     "output_type": "display_data"
    }
   ],
   "source": [
    "df_selected.hist(figsize=(18,12))"
   ]
  },
  {
   "cell_type": "code",
   "execution_count": null,
   "id": "398d6b4e",
   "metadata": {},
   "outputs": [],
   "source": [
    "#split data\n",
    "from sklearn.model_selection import train_test_split\n",
    "\n",
    "X = df_selected.drop(\"round_winner\", axis=1)\n",
    "y = df_selected[\"round_winner\"]\n",
    "\n",
    "X_train, X_test, y_train, y_test = train_test_split(X, y, train_size=0.2, random_state=42)"
   ]
  },
  {
   "cell_type": "code",
   "execution_count": null,
   "id": "a3f168f8",
   "metadata": {},
   "outputs": [],
   "source": [
    "#scale data\n",
    "from sklearn.preprocessing import StandardScaler\n",
    "from sklearn.neighbors import KNeighborsClassifier\n",
    "\n",
    "scaller = StandardScaler()\n",
    "\n",
    "X_train_scaled = scaller.fit_transform(X_train)\n",
    "X_test_scaled = scaller.transform(X_test)\n",
    "\n",
    "knn = KNeighborsClassifier()\n",
    "knn.fit(X_train_scaled, y_train)\n",
    "y_pred = knn.predict(X_test_scaled)"
   ]
  },
  {
   "cell_type": "code",
   "execution_count": null,
   "id": "3c9e97c6",
   "metadata": {},
   "outputs": [
    {
     "data": {
      "text/plain": [
       "0.7309758189690385"
      ]
     },
     "execution_count": 18,
     "metadata": {},
     "output_type": "execute_result"
    }
   ],
   "source": [
    "#knn model score\n",
    "knn.score(X_test_scaled, y_test)"
   ]
  },
  {
   "cell_type": "code",
   "execution_count": 19,
   "id": "96e032da",
   "metadata": {},
   "outputs": [
    {
     "name": "stdout",
     "output_type": "stream",
     "text": [
      "Fitting 3 folds for each of 3 candidates, totalling 9 fits\n"
     ]
    },
    {
     "data": {
      "text/html": [
       "<style>#sk-container-id-1 {\n",
       "  /* Definition of color scheme common for light and dark mode */\n",
       "  --sklearn-color-text: #000;\n",
       "  --sklearn-color-text-muted: #666;\n",
       "  --sklearn-color-line: gray;\n",
       "  /* Definition of color scheme for unfitted estimators */\n",
       "  --sklearn-color-unfitted-level-0: #fff5e6;\n",
       "  --sklearn-color-unfitted-level-1: #f6e4d2;\n",
       "  --sklearn-color-unfitted-level-2: #ffe0b3;\n",
       "  --sklearn-color-unfitted-level-3: chocolate;\n",
       "  /* Definition of color scheme for fitted estimators */\n",
       "  --sklearn-color-fitted-level-0: #f0f8ff;\n",
       "  --sklearn-color-fitted-level-1: #d4ebff;\n",
       "  --sklearn-color-fitted-level-2: #b3dbfd;\n",
       "  --sklearn-color-fitted-level-3: cornflowerblue;\n",
       "\n",
       "  /* Specific color for light theme */\n",
       "  --sklearn-color-text-on-default-background: var(--sg-text-color, var(--theme-code-foreground, var(--jp-content-font-color1, black)));\n",
       "  --sklearn-color-background: var(--sg-background-color, var(--theme-background, var(--jp-layout-color0, white)));\n",
       "  --sklearn-color-border-box: var(--sg-text-color, var(--theme-code-foreground, var(--jp-content-font-color1, black)));\n",
       "  --sklearn-color-icon: #696969;\n",
       "\n",
       "  @media (prefers-color-scheme: dark) {\n",
       "    /* Redefinition of color scheme for dark theme */\n",
       "    --sklearn-color-text-on-default-background: var(--sg-text-color, var(--theme-code-foreground, var(--jp-content-font-color1, white)));\n",
       "    --sklearn-color-background: var(--sg-background-color, var(--theme-background, var(--jp-layout-color0, #111)));\n",
       "    --sklearn-color-border-box: var(--sg-text-color, var(--theme-code-foreground, var(--jp-content-font-color1, white)));\n",
       "    --sklearn-color-icon: #878787;\n",
       "  }\n",
       "}\n",
       "\n",
       "#sk-container-id-1 {\n",
       "  color: var(--sklearn-color-text);\n",
       "}\n",
       "\n",
       "#sk-container-id-1 pre {\n",
       "  padding: 0;\n",
       "}\n",
       "\n",
       "#sk-container-id-1 input.sk-hidden--visually {\n",
       "  border: 0;\n",
       "  clip: rect(1px 1px 1px 1px);\n",
       "  clip: rect(1px, 1px, 1px, 1px);\n",
       "  height: 1px;\n",
       "  margin: -1px;\n",
       "  overflow: hidden;\n",
       "  padding: 0;\n",
       "  position: absolute;\n",
       "  width: 1px;\n",
       "}\n",
       "\n",
       "#sk-container-id-1 div.sk-dashed-wrapped {\n",
       "  border: 1px dashed var(--sklearn-color-line);\n",
       "  margin: 0 0.4em 0.5em 0.4em;\n",
       "  box-sizing: border-box;\n",
       "  padding-bottom: 0.4em;\n",
       "  background-color: var(--sklearn-color-background);\n",
       "}\n",
       "\n",
       "#sk-container-id-1 div.sk-container {\n",
       "  /* jupyter's `normalize.less` sets `[hidden] { display: none; }`\n",
       "     but bootstrap.min.css set `[hidden] { display: none !important; }`\n",
       "     so we also need the `!important` here to be able to override the\n",
       "     default hidden behavior on the sphinx rendered scikit-learn.org.\n",
       "     See: https://github.com/scikit-learn/scikit-learn/issues/21755 */\n",
       "  display: inline-block !important;\n",
       "  position: relative;\n",
       "}\n",
       "\n",
       "#sk-container-id-1 div.sk-text-repr-fallback {\n",
       "  display: none;\n",
       "}\n",
       "\n",
       "div.sk-parallel-item,\n",
       "div.sk-serial,\n",
       "div.sk-item {\n",
       "  /* draw centered vertical line to link estimators */\n",
       "  background-image: linear-gradient(var(--sklearn-color-text-on-default-background), var(--sklearn-color-text-on-default-background));\n",
       "  background-size: 2px 100%;\n",
       "  background-repeat: no-repeat;\n",
       "  background-position: center center;\n",
       "}\n",
       "\n",
       "/* Parallel-specific style estimator block */\n",
       "\n",
       "#sk-container-id-1 div.sk-parallel-item::after {\n",
       "  content: \"\";\n",
       "  width: 100%;\n",
       "  border-bottom: 2px solid var(--sklearn-color-text-on-default-background);\n",
       "  flex-grow: 1;\n",
       "}\n",
       "\n",
       "#sk-container-id-1 div.sk-parallel {\n",
       "  display: flex;\n",
       "  align-items: stretch;\n",
       "  justify-content: center;\n",
       "  background-color: var(--sklearn-color-background);\n",
       "  position: relative;\n",
       "}\n",
       "\n",
       "#sk-container-id-1 div.sk-parallel-item {\n",
       "  display: flex;\n",
       "  flex-direction: column;\n",
       "}\n",
       "\n",
       "#sk-container-id-1 div.sk-parallel-item:first-child::after {\n",
       "  align-self: flex-end;\n",
       "  width: 50%;\n",
       "}\n",
       "\n",
       "#sk-container-id-1 div.sk-parallel-item:last-child::after {\n",
       "  align-self: flex-start;\n",
       "  width: 50%;\n",
       "}\n",
       "\n",
       "#sk-container-id-1 div.sk-parallel-item:only-child::after {\n",
       "  width: 0;\n",
       "}\n",
       "\n",
       "/* Serial-specific style estimator block */\n",
       "\n",
       "#sk-container-id-1 div.sk-serial {\n",
       "  display: flex;\n",
       "  flex-direction: column;\n",
       "  align-items: center;\n",
       "  background-color: var(--sklearn-color-background);\n",
       "  padding-right: 1em;\n",
       "  padding-left: 1em;\n",
       "}\n",
       "\n",
       "\n",
       "/* Toggleable style: style used for estimator/Pipeline/ColumnTransformer box that is\n",
       "clickable and can be expanded/collapsed.\n",
       "- Pipeline and ColumnTransformer use this feature and define the default style\n",
       "- Estimators will overwrite some part of the style using the `sk-estimator` class\n",
       "*/\n",
       "\n",
       "/* Pipeline and ColumnTransformer style (default) */\n",
       "\n",
       "#sk-container-id-1 div.sk-toggleable {\n",
       "  /* Default theme specific background. It is overwritten whether we have a\n",
       "  specific estimator or a Pipeline/ColumnTransformer */\n",
       "  background-color: var(--sklearn-color-background);\n",
       "}\n",
       "\n",
       "/* Toggleable label */\n",
       "#sk-container-id-1 label.sk-toggleable__label {\n",
       "  cursor: pointer;\n",
       "  display: flex;\n",
       "  width: 100%;\n",
       "  margin-bottom: 0;\n",
       "  padding: 0.5em;\n",
       "  box-sizing: border-box;\n",
       "  text-align: center;\n",
       "  align-items: start;\n",
       "  justify-content: space-between;\n",
       "  gap: 0.5em;\n",
       "}\n",
       "\n",
       "#sk-container-id-1 label.sk-toggleable__label .caption {\n",
       "  font-size: 0.6rem;\n",
       "  font-weight: lighter;\n",
       "  color: var(--sklearn-color-text-muted);\n",
       "}\n",
       "\n",
       "#sk-container-id-1 label.sk-toggleable__label-arrow:before {\n",
       "  /* Arrow on the left of the label */\n",
       "  content: \"▸\";\n",
       "  float: left;\n",
       "  margin-right: 0.25em;\n",
       "  color: var(--sklearn-color-icon);\n",
       "}\n",
       "\n",
       "#sk-container-id-1 label.sk-toggleable__label-arrow:hover:before {\n",
       "  color: var(--sklearn-color-text);\n",
       "}\n",
       "\n",
       "/* Toggleable content - dropdown */\n",
       "\n",
       "#sk-container-id-1 div.sk-toggleable__content {\n",
       "  max-height: 0;\n",
       "  max-width: 0;\n",
       "  overflow: hidden;\n",
       "  text-align: left;\n",
       "  /* unfitted */\n",
       "  background-color: var(--sklearn-color-unfitted-level-0);\n",
       "}\n",
       "\n",
       "#sk-container-id-1 div.sk-toggleable__content.fitted {\n",
       "  /* fitted */\n",
       "  background-color: var(--sklearn-color-fitted-level-0);\n",
       "}\n",
       "\n",
       "#sk-container-id-1 div.sk-toggleable__content pre {\n",
       "  margin: 0.2em;\n",
       "  border-radius: 0.25em;\n",
       "  color: var(--sklearn-color-text);\n",
       "  /* unfitted */\n",
       "  background-color: var(--sklearn-color-unfitted-level-0);\n",
       "}\n",
       "\n",
       "#sk-container-id-1 div.sk-toggleable__content.fitted pre {\n",
       "  /* unfitted */\n",
       "  background-color: var(--sklearn-color-fitted-level-0);\n",
       "}\n",
       "\n",
       "#sk-container-id-1 input.sk-toggleable__control:checked~div.sk-toggleable__content {\n",
       "  /* Expand drop-down */\n",
       "  max-height: 200px;\n",
       "  max-width: 100%;\n",
       "  overflow: auto;\n",
       "}\n",
       "\n",
       "#sk-container-id-1 input.sk-toggleable__control:checked~label.sk-toggleable__label-arrow:before {\n",
       "  content: \"▾\";\n",
       "}\n",
       "\n",
       "/* Pipeline/ColumnTransformer-specific style */\n",
       "\n",
       "#sk-container-id-1 div.sk-label input.sk-toggleable__control:checked~label.sk-toggleable__label {\n",
       "  color: var(--sklearn-color-text);\n",
       "  background-color: var(--sklearn-color-unfitted-level-2);\n",
       "}\n",
       "\n",
       "#sk-container-id-1 div.sk-label.fitted input.sk-toggleable__control:checked~label.sk-toggleable__label {\n",
       "  background-color: var(--sklearn-color-fitted-level-2);\n",
       "}\n",
       "\n",
       "/* Estimator-specific style */\n",
       "\n",
       "/* Colorize estimator box */\n",
       "#sk-container-id-1 div.sk-estimator input.sk-toggleable__control:checked~label.sk-toggleable__label {\n",
       "  /* unfitted */\n",
       "  background-color: var(--sklearn-color-unfitted-level-2);\n",
       "}\n",
       "\n",
       "#sk-container-id-1 div.sk-estimator.fitted input.sk-toggleable__control:checked~label.sk-toggleable__label {\n",
       "  /* fitted */\n",
       "  background-color: var(--sklearn-color-fitted-level-2);\n",
       "}\n",
       "\n",
       "#sk-container-id-1 div.sk-label label.sk-toggleable__label,\n",
       "#sk-container-id-1 div.sk-label label {\n",
       "  /* The background is the default theme color */\n",
       "  color: var(--sklearn-color-text-on-default-background);\n",
       "}\n",
       "\n",
       "/* On hover, darken the color of the background */\n",
       "#sk-container-id-1 div.sk-label:hover label.sk-toggleable__label {\n",
       "  color: var(--sklearn-color-text);\n",
       "  background-color: var(--sklearn-color-unfitted-level-2);\n",
       "}\n",
       "\n",
       "/* Label box, darken color on hover, fitted */\n",
       "#sk-container-id-1 div.sk-label.fitted:hover label.sk-toggleable__label.fitted {\n",
       "  color: var(--sklearn-color-text);\n",
       "  background-color: var(--sklearn-color-fitted-level-2);\n",
       "}\n",
       "\n",
       "/* Estimator label */\n",
       "\n",
       "#sk-container-id-1 div.sk-label label {\n",
       "  font-family: monospace;\n",
       "  font-weight: bold;\n",
       "  display: inline-block;\n",
       "  line-height: 1.2em;\n",
       "}\n",
       "\n",
       "#sk-container-id-1 div.sk-label-container {\n",
       "  text-align: center;\n",
       "}\n",
       "\n",
       "/* Estimator-specific */\n",
       "#sk-container-id-1 div.sk-estimator {\n",
       "  font-family: monospace;\n",
       "  border: 1px dotted var(--sklearn-color-border-box);\n",
       "  border-radius: 0.25em;\n",
       "  box-sizing: border-box;\n",
       "  margin-bottom: 0.5em;\n",
       "  /* unfitted */\n",
       "  background-color: var(--sklearn-color-unfitted-level-0);\n",
       "}\n",
       "\n",
       "#sk-container-id-1 div.sk-estimator.fitted {\n",
       "  /* fitted */\n",
       "  background-color: var(--sklearn-color-fitted-level-0);\n",
       "}\n",
       "\n",
       "/* on hover */\n",
       "#sk-container-id-1 div.sk-estimator:hover {\n",
       "  /* unfitted */\n",
       "  background-color: var(--sklearn-color-unfitted-level-2);\n",
       "}\n",
       "\n",
       "#sk-container-id-1 div.sk-estimator.fitted:hover {\n",
       "  /* fitted */\n",
       "  background-color: var(--sklearn-color-fitted-level-2);\n",
       "}\n",
       "\n",
       "/* Specification for estimator info (e.g. \"i\" and \"?\") */\n",
       "\n",
       "/* Common style for \"i\" and \"?\" */\n",
       "\n",
       ".sk-estimator-doc-link,\n",
       "a:link.sk-estimator-doc-link,\n",
       "a:visited.sk-estimator-doc-link {\n",
       "  float: right;\n",
       "  font-size: smaller;\n",
       "  line-height: 1em;\n",
       "  font-family: monospace;\n",
       "  background-color: var(--sklearn-color-background);\n",
       "  border-radius: 1em;\n",
       "  height: 1em;\n",
       "  width: 1em;\n",
       "  text-decoration: none !important;\n",
       "  margin-left: 0.5em;\n",
       "  text-align: center;\n",
       "  /* unfitted */\n",
       "  border: var(--sklearn-color-unfitted-level-1) 1pt solid;\n",
       "  color: var(--sklearn-color-unfitted-level-1);\n",
       "}\n",
       "\n",
       ".sk-estimator-doc-link.fitted,\n",
       "a:link.sk-estimator-doc-link.fitted,\n",
       "a:visited.sk-estimator-doc-link.fitted {\n",
       "  /* fitted */\n",
       "  border: var(--sklearn-color-fitted-level-1) 1pt solid;\n",
       "  color: var(--sklearn-color-fitted-level-1);\n",
       "}\n",
       "\n",
       "/* On hover */\n",
       "div.sk-estimator:hover .sk-estimator-doc-link:hover,\n",
       ".sk-estimator-doc-link:hover,\n",
       "div.sk-label-container:hover .sk-estimator-doc-link:hover,\n",
       ".sk-estimator-doc-link:hover {\n",
       "  /* unfitted */\n",
       "  background-color: var(--sklearn-color-unfitted-level-3);\n",
       "  color: var(--sklearn-color-background);\n",
       "  text-decoration: none;\n",
       "}\n",
       "\n",
       "div.sk-estimator.fitted:hover .sk-estimator-doc-link.fitted:hover,\n",
       ".sk-estimator-doc-link.fitted:hover,\n",
       "div.sk-label-container:hover .sk-estimator-doc-link.fitted:hover,\n",
       ".sk-estimator-doc-link.fitted:hover {\n",
       "  /* fitted */\n",
       "  background-color: var(--sklearn-color-fitted-level-3);\n",
       "  color: var(--sklearn-color-background);\n",
       "  text-decoration: none;\n",
       "}\n",
       "\n",
       "/* Span, style for the box shown on hovering the info icon */\n",
       ".sk-estimator-doc-link span {\n",
       "  display: none;\n",
       "  z-index: 9999;\n",
       "  position: relative;\n",
       "  font-weight: normal;\n",
       "  right: .2ex;\n",
       "  padding: .5ex;\n",
       "  margin: .5ex;\n",
       "  width: min-content;\n",
       "  min-width: 20ex;\n",
       "  max-width: 50ex;\n",
       "  color: var(--sklearn-color-text);\n",
       "  box-shadow: 2pt 2pt 4pt #999;\n",
       "  /* unfitted */\n",
       "  background: var(--sklearn-color-unfitted-level-0);\n",
       "  border: .5pt solid var(--sklearn-color-unfitted-level-3);\n",
       "}\n",
       "\n",
       ".sk-estimator-doc-link.fitted span {\n",
       "  /* fitted */\n",
       "  background: var(--sklearn-color-fitted-level-0);\n",
       "  border: var(--sklearn-color-fitted-level-3);\n",
       "}\n",
       "\n",
       ".sk-estimator-doc-link:hover span {\n",
       "  display: block;\n",
       "}\n",
       "\n",
       "/* \"?\"-specific style due to the `<a>` HTML tag */\n",
       "\n",
       "#sk-container-id-1 a.estimator_doc_link {\n",
       "  float: right;\n",
       "  font-size: 1rem;\n",
       "  line-height: 1em;\n",
       "  font-family: monospace;\n",
       "  background-color: var(--sklearn-color-background);\n",
       "  border-radius: 1rem;\n",
       "  height: 1rem;\n",
       "  width: 1rem;\n",
       "  text-decoration: none;\n",
       "  /* unfitted */\n",
       "  color: var(--sklearn-color-unfitted-level-1);\n",
       "  border: var(--sklearn-color-unfitted-level-1) 1pt solid;\n",
       "}\n",
       "\n",
       "#sk-container-id-1 a.estimator_doc_link.fitted {\n",
       "  /* fitted */\n",
       "  border: var(--sklearn-color-fitted-level-1) 1pt solid;\n",
       "  color: var(--sklearn-color-fitted-level-1);\n",
       "}\n",
       "\n",
       "/* On hover */\n",
       "#sk-container-id-1 a.estimator_doc_link:hover {\n",
       "  /* unfitted */\n",
       "  background-color: var(--sklearn-color-unfitted-level-3);\n",
       "  color: var(--sklearn-color-background);\n",
       "  text-decoration: none;\n",
       "}\n",
       "\n",
       "#sk-container-id-1 a.estimator_doc_link.fitted:hover {\n",
       "  /* fitted */\n",
       "  background-color: var(--sklearn-color-fitted-level-3);\n",
       "}\n",
       "</style><div id=\"sk-container-id-1\" class=\"sk-top-container\"><div class=\"sk-text-repr-fallback\"><pre>RandomizedSearchCV(cv=3, estimator=KNeighborsClassifier(), n_iter=3, n_jobs=4,\n",
       "                   param_distributions={&#x27;n_neighbors&#x27;: [5, 7, 9, 11, 13, 15],\n",
       "                                        &#x27;weights&#x27;: [&#x27;uniform&#x27;, &#x27;distance&#x27;]},\n",
       "                   verbose=2)</pre><b>In a Jupyter environment, please rerun this cell to show the HTML representation or trust the notebook. <br />On GitHub, the HTML representation is unable to render, please try loading this page with nbviewer.org.</b></div><div class=\"sk-container\" hidden><div class=\"sk-item sk-dashed-wrapped\"><div class=\"sk-label-container\"><div class=\"sk-label fitted sk-toggleable\"><input class=\"sk-toggleable__control sk-hidden--visually\" id=\"sk-estimator-id-1\" type=\"checkbox\" ><label for=\"sk-estimator-id-1\" class=\"sk-toggleable__label fitted sk-toggleable__label-arrow\"><div><div>RandomizedSearchCV</div></div><div><a class=\"sk-estimator-doc-link fitted\" rel=\"noreferrer\" target=\"_blank\" href=\"https://scikit-learn.org/1.6/modules/generated/sklearn.model_selection.RandomizedSearchCV.html\">?<span>Documentation for RandomizedSearchCV</span></a><span class=\"sk-estimator-doc-link fitted\">i<span>Fitted</span></span></div></label><div class=\"sk-toggleable__content fitted\"><pre>RandomizedSearchCV(cv=3, estimator=KNeighborsClassifier(), n_iter=3, n_jobs=4,\n",
       "                   param_distributions={&#x27;n_neighbors&#x27;: [5, 7, 9, 11, 13, 15],\n",
       "                                        &#x27;weights&#x27;: [&#x27;uniform&#x27;, &#x27;distance&#x27;]},\n",
       "                   verbose=2)</pre></div> </div></div><div class=\"sk-parallel\"><div class=\"sk-parallel-item\"><div class=\"sk-item\"><div class=\"sk-label-container\"><div class=\"sk-label fitted sk-toggleable\"><input class=\"sk-toggleable__control sk-hidden--visually\" id=\"sk-estimator-id-2\" type=\"checkbox\" ><label for=\"sk-estimator-id-2\" class=\"sk-toggleable__label fitted sk-toggleable__label-arrow\"><div><div>best_estimator_: KNeighborsClassifier</div></div></label><div class=\"sk-toggleable__content fitted\"><pre>KNeighborsClassifier(n_neighbors=9, weights=&#x27;distance&#x27;)</pre></div> </div></div><div class=\"sk-serial\"><div class=\"sk-item\"><div class=\"sk-estimator fitted sk-toggleable\"><input class=\"sk-toggleable__control sk-hidden--visually\" id=\"sk-estimator-id-3\" type=\"checkbox\" ><label for=\"sk-estimator-id-3\" class=\"sk-toggleable__label fitted sk-toggleable__label-arrow\"><div><div>KNeighborsClassifier</div></div><div><a class=\"sk-estimator-doc-link fitted\" rel=\"noreferrer\" target=\"_blank\" href=\"https://scikit-learn.org/1.6/modules/generated/sklearn.neighbors.KNeighborsClassifier.html\">?<span>Documentation for KNeighborsClassifier</span></a></div></label><div class=\"sk-toggleable__content fitted\"><pre>KNeighborsClassifier(n_neighbors=9, weights=&#x27;distance&#x27;)</pre></div> </div></div></div></div></div></div></div></div></div>"
      ],
      "text/plain": [
       "RandomizedSearchCV(cv=3, estimator=KNeighborsClassifier(), n_iter=3, n_jobs=4,\n",
       "                   param_distributions={'n_neighbors': [5, 7, 9, 11, 13, 15],\n",
       "                                        'weights': ['uniform', 'distance']},\n",
       "                   verbose=2)"
      ]
     },
     "execution_count": 19,
     "metadata": {},
     "output_type": "execute_result"
    }
   ],
   "source": [
    "from sklearn.model_selection import RandomizedSearchCV\n",
    "from sklearn.neighbors import KNeighborsClassifier\n",
    "\n",
    "param_grid = {\n",
    "    'n_neighbors': list(range(5, 17, 2)),\n",
    "    'weights': ['uniform', 'distance']\n",
    "}\n",
    "\n",
    "knn = KNeighborsClassifier()\n",
    "\n",
    "clf = RandomizedSearchCV(knn, param_grid, n_jobs=4, n_iter=3, verbose=2, cv=3)\n",
    "clf.fit(X_train_scaled, y_train)\n"
   ]
  },
  {
   "cell_type": "code",
   "execution_count": 20,
   "id": "da59a42e",
   "metadata": {},
   "outputs": [],
   "source": [
    "knn = clf.best_estimator_"
   ]
  },
  {
   "cell_type": "code",
   "execution_count": null,
   "id": "4f9a4206",
   "metadata": {},
   "outputs": [
    {
     "data": {
      "text/plain": [
       "0.7443938403725185"
      ]
     },
     "execution_count": 21,
     "metadata": {},
     "output_type": "execute_result"
    }
   ],
   "source": [
    "#beste knn waarde\n",
    "knn.score(X_test_scaled, y_test)"
   ]
  },
  {
   "cell_type": "code",
   "execution_count": null,
   "id": "d0aca0e9",
   "metadata": {},
   "outputs": [
    {
     "data": {
      "text/plain": [
       "0.7740176456171881"
      ]
     },
     "execution_count": 22,
     "metadata": {},
     "output_type": "execute_result"
    }
   ],
   "source": [
    "#randomforest classifier\n",
    "from sklearn.ensemble import RandomForestClassifier\n",
    "from sklearn.model_selection import RandomizedSearchCV\n",
    "from sklearn.metrics import accuracy_score\n",
    "\n",
    "r_forest = RandomForestClassifier()\n",
    "\n",
    "r_forest.fit(X_train_scaled, y_train)\n",
    "r_forest.score(X_test_scaled, y_test)\n"
   ]
  },
  {
   "cell_type": "code",
   "execution_count": null,
   "id": "0a0b7820",
   "metadata": {},
   "outputs": [
    {
     "name": "stdout",
     "output_type": "stream",
     "text": [
      "Fitting 3 folds for each of 10 candidates, totalling 30 fits\n",
      "Best Params: {'n_estimators': 1500, 'min_samples_split': 2, 'min_samples_leaf': 1, 'max_features': 'log2', 'max_depth': 60}\n",
      "Test Accuracy: 0.7758557307409525\n"
     ]
    }
   ],
   "source": [
    "#hyper parameter tuning\n",
    "param_dist = {\n",
    "    'n_estimators': [100, 300, 500, 800, 1000, 1500],\n",
    "    'max_depth': [10, 20, 30, 40, 50, 60, None],\n",
    "    'min_samples_split': [2, 5, 10, 15],\n",
    "    'min_samples_leaf': [1, 2, 4, 6],\n",
    "    'max_features': ['sqrt', 'log2', None]  # None = all features\n",
    "}\n",
    "\n",
    "random_search = RandomizedSearchCV(\n",
    "    estimator=RandomForestClassifier(random_state=42),\n",
    "    param_distributions=param_dist,\n",
    "    n_iter=10,\n",
    "    cv=3,\n",
    "    verbose=1,\n",
    "    n_jobs=-1\n",
    ")\n",
    "\n",
    "random_search.fit(X_train_scaled, y_train)\n",
    "\n",
    "best_rf = random_search.best_estimator_\n",
    "\n",
    "accuracy = best_rf.score(X_test_scaled, y_test)\n",
    "print(\"Best Params:\", random_search.best_params_)\n",
    "print(\"Test Accuracy:\", accuracy)"
   ]
  },
  {
   "cell_type": "code",
   "execution_count": 25,
   "id": "2dc79de3",
   "metadata": {},
   "outputs": [
    {
     "data": {
      "text/plain": [
       "0.7729250061269504"
      ]
     },
     "execution_count": 25,
     "metadata": {},
     "output_type": "execute_result"
    }
   ],
   "source": [
    "from sklearn.ensemble import RandomForestClassifier\n",
    "from sklearn.model_selection import RandomizedSearchCV\n",
    "from sklearn.metrics import accuracy_score\n",
    "\n",
    "r_forest = RandomForestClassifier(n_jobs=4)\n",
    "\n",
    "r_forest.fit(X_train_scaled, y_train)\n",
    "r_forest.score(X_test_scaled, y_test)"
   ]
  }
 ],
 "metadata": {
  "kernelspec": {
   "display_name": "base",
   "language": "python",
   "name": "python3"
  },
  "language_info": {
   "codemirror_mode": {
    "name": "ipython",
    "version": 3
   },
   "file_extension": ".py",
   "mimetype": "text/x-python",
   "name": "python",
   "nbconvert_exporter": "python",
   "pygments_lexer": "ipython3",
   "version": "3.12.4"
  }
 },
 "nbformat": 4,
 "nbformat_minor": 5
}
